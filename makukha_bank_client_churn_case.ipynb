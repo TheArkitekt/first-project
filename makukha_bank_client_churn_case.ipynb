{
 "cells": [
  {
   "cell_type": "markdown",
   "metadata": {
    "toc": true
   },
   "source": [
    "<h1>Содержание<span class=\"tocSkip\"></span></h1>\n",
    "<div class=\"toc\"><ul class=\"toc-item\"><li><span><a href=\"#Подготовка-данных\" data-toc-modified-id=\"Подготовка-данных-1\"><span class=\"toc-item-num\">1&nbsp;&nbsp;</span>Подготовка данных</a></span><ul class=\"toc-item\"><li><span><a href=\"#Выводы-о-природе-данных-после-ознакомления\" data-toc-modified-id=\"Выводы-о-природе-данных-после-ознакомления-1.1\"><span class=\"toc-item-num\">1.1&nbsp;&nbsp;</span>Выводы о природе данных после ознакомления</a></span></li></ul></li><li><span><a href=\"#Исследование-задачи\" data-toc-modified-id=\"Исследование-задачи-2\"><span class=\"toc-item-num\">2&nbsp;&nbsp;</span>Исследование задачи</a></span><ul class=\"toc-item\"><li><span><a href=\"#Решающее-дерево\" data-toc-modified-id=\"Решающее-дерево-2.1\"><span class=\"toc-item-num\">2.1&nbsp;&nbsp;</span>Решающее дерево</a></span></li><li><span><a href=\"#Случайный-лес\" data-toc-modified-id=\"Случайный-лес-2.2\"><span class=\"toc-item-num\">2.2&nbsp;&nbsp;</span>Случайный лес</a></span></li><li><span><a href=\"#Логистическая-регрессия\" data-toc-modified-id=\"Логистическая-регрессия-2.3\"><span class=\"toc-item-num\">2.3&nbsp;&nbsp;</span>Логистическая регрессия</a></span></li><li><span><a href=\"#Выводы-по-обучению-модели-без-учета-дисбаланса-классов\" data-toc-modified-id=\"Выводы-по-обучению-модели-без-учета-дисбаланса-классов-2.4\"><span class=\"toc-item-num\">2.4&nbsp;&nbsp;</span>Выводы по обучению модели без учета дисбаланса классов</a></span></li></ul></li><li><span><a href=\"#Борьба-с-дисбалансом\" data-toc-modified-id=\"Борьба-с-дисбалансом-3\"><span class=\"toc-item-num\">3&nbsp;&nbsp;</span>Борьба с дисбалансом</a></span><ul class=\"toc-item\"><li><span><a href=\"#Промежуточные-выводы-по-балансировке-классов-через-параметр-class_weight\" data-toc-modified-id=\"Промежуточные-выводы-по-балансировке-классов-через-параметр-class_weight-3.1\"><span class=\"toc-item-num\">3.1&nbsp;&nbsp;</span>Промежуточные выводы по балансировке классов через параметр class_weight</a></span></li><li><span><a href=\"#Тестирование-подхода-upsampling'a\" data-toc-modified-id=\"Тестирование-подхода-upsampling'a-3.2\"><span class=\"toc-item-num\">3.2&nbsp;&nbsp;</span>Тестирование подхода upsampling'a</a></span></li><li><span><a href=\"#Промежуточные-выводы-по-результатам-применения-техники-увеличения-выборки\" data-toc-modified-id=\"Промежуточные-выводы-по-результатам-применения-техники-увеличения-выборки-3.3\"><span class=\"toc-item-num\">3.3&nbsp;&nbsp;</span>Промежуточные выводы по результатам применения техники увеличения выборки</a></span></li><li><span><a href=\"#Тестирование-подхода-downsampling'a\" data-toc-modified-id=\"Тестирование-подхода-downsampling'a-3.4\"><span class=\"toc-item-num\">3.4&nbsp;&nbsp;</span>Тестирование подхода downsampling'a</a></span></li><li><span><a href=\"#Промежуточные-выводы-по-результатам-применения-техники-уменьшения-выборки\" data-toc-modified-id=\"Промежуточные-выводы-по-результатам-применения-техники-уменьшения-выборки-3.5\"><span class=\"toc-item-num\">3.5&nbsp;&nbsp;</span>Промежуточные выводы по результатам применения техники уменьшения выборки</a></span></li></ul></li><li><span><a href=\"#Тестирование-модели\" data-toc-modified-id=\"Тестирование-модели-4\"><span class=\"toc-item-num\">4&nbsp;&nbsp;</span>Тестирование модели</a></span></li><li><span><a href=\"#Финальные-выводы\" data-toc-modified-id=\"Финальные-выводы-5\"><span class=\"toc-item-num\">5&nbsp;&nbsp;</span>Финальные выводы</a></span></li><li><span><a href=\"#Чек-лист-готовности-проекта\" data-toc-modified-id=\"Чек-лист-готовности-проекта-6\"><span class=\"toc-item-num\">6&nbsp;&nbsp;</span>Чек-лист готовности проекта</a></span></li></ul></div>"
   ]
  },
  {
   "cell_type": "markdown",
   "metadata": {},
   "source": [
    "# Отток клиентов"
   ]
  },
  {
   "cell_type": "markdown",
   "metadata": {},
   "source": [
    "Из «Бета-Банка» стали уходить клиенты. Каждый месяц. Немного, но заметно. Банковские маркетологи посчитали: сохранять текущих клиентов дешевле, чем привлекать новых.\n",
    "\n",
    "Нужно спрогнозировать, уйдёт клиент из банка в ближайшее время или нет. Вам предоставлены исторические данные о поведении клиентов и расторжении договоров с банком. \n",
    "\n",
    "Постройте модель с предельно большим значением *F1*-меры. Чтобы сдать проект успешно, нужно довести метрику до 0.59. Проверьте *F1*-меру на тестовой выборке самостоятельно.\n",
    "\n",
    "Дополнительно измеряйте *AUC-ROC*, сравнивайте её значение с *F1*-мерой.\n",
    "\n",
    "Источник данных: [https://www.kaggle.com/barelydedicated/bank-customer-churn-modeling](https://www.kaggle.com/barelydedicated/bank-customer-churn-modeling)"
   ]
  },
  {
   "cell_type": "markdown",
   "metadata": {},
   "source": [
    "## Подготовка данных"
   ]
  },
  {
   "cell_type": "markdown",
   "metadata": {},
   "source": [
    "*Сперва мы импортируем необходимые рабочие библиотеки, без них невозможно начать работу. В данном проекте нам необходимо предсказать уход клиента, который закодирован в столбце **Exited** по булеву принципу через единицы и нули, поэтому наша задача сводится к бинарной классификации, ведь нам надо предсказать при помощи модели уход/неуход клиента. Опираясь на эту информацию, ниже мы импортируем основные классификационные модели - решающего дерева, случайного леса и логистической регресии*"
   ]
  },
  {
   "cell_type": "code",
   "execution_count": 1,
   "metadata": {},
   "outputs": [],
   "source": [
    "#импортируем необходимые библиотеки\n",
    "import pandas as pd\n",
    "import numpy as np\n",
    "import seaborn as sns\n",
    "#импортируем библиотеки моделей классификации\n",
    "from sklearn.tree import DecisionTreeClassifier\n",
    "from sklearn.ensemble import RandomForestClassifier\n",
    "from sklearn.linear_model import LogisticRegression\n",
    "from sklearn.model_selection import train_test_split\n",
    "from sklearn.model_selection import GridSearchCV\n",
    "from sklearn.utils import shuffle\n",
    "#импортируем библиотеки метрик для проекта\n",
    "from sklearn.metrics import roc_auc_score\n",
    "from sklearn.metrics import f1_score"
   ]
  },
  {
   "cell_type": "code",
   "execution_count": 2,
   "metadata": {},
   "outputs": [],
   "source": [
    "#откроем и изучим файл\n",
    "try:\n",
    "    data = pd.read_csv('/datasets/Churn.csv')\n",
    "except:\n",
    "    data = pd.read_csv('D:/datasets/Churn.csv')"
   ]
  },
  {
   "cell_type": "code",
   "execution_count": 3,
   "metadata": {},
   "outputs": [
    {
     "data": {
      "text/html": [
       "<div>\n",
       "<style scoped>\n",
       "    .dataframe tbody tr th:only-of-type {\n",
       "        vertical-align: middle;\n",
       "    }\n",
       "\n",
       "    .dataframe tbody tr th {\n",
       "        vertical-align: top;\n",
       "    }\n",
       "\n",
       "    .dataframe thead th {\n",
       "        text-align: right;\n",
       "    }\n",
       "</style>\n",
       "<table border=\"1\" class=\"dataframe\">\n",
       "  <thead>\n",
       "    <tr style=\"text-align: right;\">\n",
       "      <th></th>\n",
       "      <th>RowNumber</th>\n",
       "      <th>CustomerId</th>\n",
       "      <th>Surname</th>\n",
       "      <th>CreditScore</th>\n",
       "      <th>Geography</th>\n",
       "      <th>Gender</th>\n",
       "      <th>Age</th>\n",
       "      <th>Tenure</th>\n",
       "      <th>Balance</th>\n",
       "      <th>NumOfProducts</th>\n",
       "      <th>HasCrCard</th>\n",
       "      <th>IsActiveMember</th>\n",
       "      <th>EstimatedSalary</th>\n",
       "      <th>Exited</th>\n",
       "    </tr>\n",
       "  </thead>\n",
       "  <tbody>\n",
       "    <tr>\n",
       "      <th>0</th>\n",
       "      <td>1</td>\n",
       "      <td>15634602</td>\n",
       "      <td>Hargrave</td>\n",
       "      <td>619</td>\n",
       "      <td>France</td>\n",
       "      <td>Female</td>\n",
       "      <td>42</td>\n",
       "      <td>2.0</td>\n",
       "      <td>0.00</td>\n",
       "      <td>1</td>\n",
       "      <td>1</td>\n",
       "      <td>1</td>\n",
       "      <td>101348.88</td>\n",
       "      <td>1</td>\n",
       "    </tr>\n",
       "    <tr>\n",
       "      <th>1</th>\n",
       "      <td>2</td>\n",
       "      <td>15647311</td>\n",
       "      <td>Hill</td>\n",
       "      <td>608</td>\n",
       "      <td>Spain</td>\n",
       "      <td>Female</td>\n",
       "      <td>41</td>\n",
       "      <td>1.0</td>\n",
       "      <td>83807.86</td>\n",
       "      <td>1</td>\n",
       "      <td>0</td>\n",
       "      <td>1</td>\n",
       "      <td>112542.58</td>\n",
       "      <td>0</td>\n",
       "    </tr>\n",
       "    <tr>\n",
       "      <th>2</th>\n",
       "      <td>3</td>\n",
       "      <td>15619304</td>\n",
       "      <td>Onio</td>\n",
       "      <td>502</td>\n",
       "      <td>France</td>\n",
       "      <td>Female</td>\n",
       "      <td>42</td>\n",
       "      <td>8.0</td>\n",
       "      <td>159660.80</td>\n",
       "      <td>3</td>\n",
       "      <td>1</td>\n",
       "      <td>0</td>\n",
       "      <td>113931.57</td>\n",
       "      <td>1</td>\n",
       "    </tr>\n",
       "    <tr>\n",
       "      <th>3</th>\n",
       "      <td>4</td>\n",
       "      <td>15701354</td>\n",
       "      <td>Boni</td>\n",
       "      <td>699</td>\n",
       "      <td>France</td>\n",
       "      <td>Female</td>\n",
       "      <td>39</td>\n",
       "      <td>1.0</td>\n",
       "      <td>0.00</td>\n",
       "      <td>2</td>\n",
       "      <td>0</td>\n",
       "      <td>0</td>\n",
       "      <td>93826.63</td>\n",
       "      <td>0</td>\n",
       "    </tr>\n",
       "    <tr>\n",
       "      <th>4</th>\n",
       "      <td>5</td>\n",
       "      <td>15737888</td>\n",
       "      <td>Mitchell</td>\n",
       "      <td>850</td>\n",
       "      <td>Spain</td>\n",
       "      <td>Female</td>\n",
       "      <td>43</td>\n",
       "      <td>2.0</td>\n",
       "      <td>125510.82</td>\n",
       "      <td>1</td>\n",
       "      <td>1</td>\n",
       "      <td>1</td>\n",
       "      <td>79084.10</td>\n",
       "      <td>0</td>\n",
       "    </tr>\n",
       "    <tr>\n",
       "      <th>5</th>\n",
       "      <td>6</td>\n",
       "      <td>15574012</td>\n",
       "      <td>Chu</td>\n",
       "      <td>645</td>\n",
       "      <td>Spain</td>\n",
       "      <td>Male</td>\n",
       "      <td>44</td>\n",
       "      <td>8.0</td>\n",
       "      <td>113755.78</td>\n",
       "      <td>2</td>\n",
       "      <td>1</td>\n",
       "      <td>0</td>\n",
       "      <td>149756.71</td>\n",
       "      <td>1</td>\n",
       "    </tr>\n",
       "    <tr>\n",
       "      <th>6</th>\n",
       "      <td>7</td>\n",
       "      <td>15592531</td>\n",
       "      <td>Bartlett</td>\n",
       "      <td>822</td>\n",
       "      <td>France</td>\n",
       "      <td>Male</td>\n",
       "      <td>50</td>\n",
       "      <td>7.0</td>\n",
       "      <td>0.00</td>\n",
       "      <td>2</td>\n",
       "      <td>1</td>\n",
       "      <td>1</td>\n",
       "      <td>10062.80</td>\n",
       "      <td>0</td>\n",
       "    </tr>\n",
       "    <tr>\n",
       "      <th>7</th>\n",
       "      <td>8</td>\n",
       "      <td>15656148</td>\n",
       "      <td>Obinna</td>\n",
       "      <td>376</td>\n",
       "      <td>Germany</td>\n",
       "      <td>Female</td>\n",
       "      <td>29</td>\n",
       "      <td>4.0</td>\n",
       "      <td>115046.74</td>\n",
       "      <td>4</td>\n",
       "      <td>1</td>\n",
       "      <td>0</td>\n",
       "      <td>119346.88</td>\n",
       "      <td>1</td>\n",
       "    </tr>\n",
       "    <tr>\n",
       "      <th>8</th>\n",
       "      <td>9</td>\n",
       "      <td>15792365</td>\n",
       "      <td>He</td>\n",
       "      <td>501</td>\n",
       "      <td>France</td>\n",
       "      <td>Male</td>\n",
       "      <td>44</td>\n",
       "      <td>4.0</td>\n",
       "      <td>142051.07</td>\n",
       "      <td>2</td>\n",
       "      <td>0</td>\n",
       "      <td>1</td>\n",
       "      <td>74940.50</td>\n",
       "      <td>0</td>\n",
       "    </tr>\n",
       "    <tr>\n",
       "      <th>9</th>\n",
       "      <td>10</td>\n",
       "      <td>15592389</td>\n",
       "      <td>H?</td>\n",
       "      <td>684</td>\n",
       "      <td>France</td>\n",
       "      <td>Male</td>\n",
       "      <td>27</td>\n",
       "      <td>2.0</td>\n",
       "      <td>134603.88</td>\n",
       "      <td>1</td>\n",
       "      <td>1</td>\n",
       "      <td>1</td>\n",
       "      <td>71725.73</td>\n",
       "      <td>0</td>\n",
       "    </tr>\n",
       "    <tr>\n",
       "      <th>10</th>\n",
       "      <td>11</td>\n",
       "      <td>15767821</td>\n",
       "      <td>Bearce</td>\n",
       "      <td>528</td>\n",
       "      <td>France</td>\n",
       "      <td>Male</td>\n",
       "      <td>31</td>\n",
       "      <td>6.0</td>\n",
       "      <td>102016.72</td>\n",
       "      <td>2</td>\n",
       "      <td>0</td>\n",
       "      <td>0</td>\n",
       "      <td>80181.12</td>\n",
       "      <td>0</td>\n",
       "    </tr>\n",
       "    <tr>\n",
       "      <th>11</th>\n",
       "      <td>12</td>\n",
       "      <td>15737173</td>\n",
       "      <td>Andrews</td>\n",
       "      <td>497</td>\n",
       "      <td>Spain</td>\n",
       "      <td>Male</td>\n",
       "      <td>24</td>\n",
       "      <td>3.0</td>\n",
       "      <td>0.00</td>\n",
       "      <td>2</td>\n",
       "      <td>1</td>\n",
       "      <td>0</td>\n",
       "      <td>76390.01</td>\n",
       "      <td>0</td>\n",
       "    </tr>\n",
       "  </tbody>\n",
       "</table>\n",
       "</div>"
      ],
      "text/plain": [
       "    RowNumber  CustomerId   Surname  CreditScore Geography  Gender  Age  \\\n",
       "0           1    15634602  Hargrave          619    France  Female   42   \n",
       "1           2    15647311      Hill          608     Spain  Female   41   \n",
       "2           3    15619304      Onio          502    France  Female   42   \n",
       "3           4    15701354      Boni          699    France  Female   39   \n",
       "4           5    15737888  Mitchell          850     Spain  Female   43   \n",
       "5           6    15574012       Chu          645     Spain    Male   44   \n",
       "6           7    15592531  Bartlett          822    France    Male   50   \n",
       "7           8    15656148    Obinna          376   Germany  Female   29   \n",
       "8           9    15792365        He          501    France    Male   44   \n",
       "9          10    15592389        H?          684    France    Male   27   \n",
       "10         11    15767821    Bearce          528    France    Male   31   \n",
       "11         12    15737173   Andrews          497     Spain    Male   24   \n",
       "\n",
       "    Tenure    Balance  NumOfProducts  HasCrCard  IsActiveMember  \\\n",
       "0      2.0       0.00              1          1               1   \n",
       "1      1.0   83807.86              1          0               1   \n",
       "2      8.0  159660.80              3          1               0   \n",
       "3      1.0       0.00              2          0               0   \n",
       "4      2.0  125510.82              1          1               1   \n",
       "5      8.0  113755.78              2          1               0   \n",
       "6      7.0       0.00              2          1               1   \n",
       "7      4.0  115046.74              4          1               0   \n",
       "8      4.0  142051.07              2          0               1   \n",
       "9      2.0  134603.88              1          1               1   \n",
       "10     6.0  102016.72              2          0               0   \n",
       "11     3.0       0.00              2          1               0   \n",
       "\n",
       "    EstimatedSalary  Exited  \n",
       "0         101348.88       1  \n",
       "1         112542.58       0  \n",
       "2         113931.57       1  \n",
       "3          93826.63       0  \n",
       "4          79084.10       0  \n",
       "5         149756.71       1  \n",
       "6          10062.80       0  \n",
       "7         119346.88       1  \n",
       "8          74940.50       0  \n",
       "9          71725.73       0  \n",
       "10         80181.12       0  \n",
       "11         76390.01       0  "
      ]
     },
     "execution_count": 3,
     "metadata": {},
     "output_type": "execute_result"
    }
   ],
   "source": [
    "data.head(12) #data.tail(12) #data.sample(12)"
   ]
  },
  {
   "cell_type": "code",
   "execution_count": 4,
   "metadata": {},
   "outputs": [
    {
     "data": {
      "text/plain": [
       "(10000, 14)"
      ]
     },
     "execution_count": 4,
     "metadata": {},
     "output_type": "execute_result"
    }
   ],
   "source": [
    "data.shape"
   ]
  },
  {
   "cell_type": "code",
   "execution_count": 5,
   "metadata": {},
   "outputs": [
    {
     "name": "stdout",
     "output_type": "stream",
     "text": [
      "<class 'pandas.core.frame.DataFrame'>\n",
      "RangeIndex: 10000 entries, 0 to 9999\n",
      "Data columns (total 14 columns):\n",
      " #   Column           Non-Null Count  Dtype  \n",
      "---  ------           --------------  -----  \n",
      " 0   RowNumber        10000 non-null  int64  \n",
      " 1   CustomerId       10000 non-null  int64  \n",
      " 2   Surname          10000 non-null  object \n",
      " 3   CreditScore      10000 non-null  int64  \n",
      " 4   Geography        10000 non-null  object \n",
      " 5   Gender           10000 non-null  object \n",
      " 6   Age              10000 non-null  int64  \n",
      " 7   Tenure           9091 non-null   float64\n",
      " 8   Balance          10000 non-null  float64\n",
      " 9   NumOfProducts    10000 non-null  int64  \n",
      " 10  HasCrCard        10000 non-null  int64  \n",
      " 11  IsActiveMember   10000 non-null  int64  \n",
      " 12  EstimatedSalary  10000 non-null  float64\n",
      " 13  Exited           10000 non-null  int64  \n",
      "dtypes: float64(3), int64(8), object(3)\n",
      "memory usage: 1.1+ MB\n"
     ]
    }
   ],
   "source": [
    "data.info()"
   ]
  },
  {
   "cell_type": "markdown",
   "metadata": {},
   "source": [
    "**Визиализируем признаки, которые играют большую роль в предсказании оттока клиентов** "
   ]
  },
  {
   "cell_type": "code",
   "execution_count": 6,
   "metadata": {},
   "outputs": [
    {
     "data": {
      "image/png": "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\n",
      "text/plain": [
       "<Figure size 1152x432 with 1 Axes>"
      ]
     },
     "metadata": {
      "needs_background": "light"
     },
     "output_type": "display_data"
    }
   ],
   "source": [
    "#возраст клиента\n",
    "data['Age'].hist(figsize=(16,6));"
   ]
  },
  {
   "cell_type": "code",
   "execution_count": 7,
   "metadata": {},
   "outputs": [
    {
     "data": {
      "image/png": "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\n",
      "text/plain": [
       "<Figure size 1152x432 with 1 Axes>"
      ]
     },
     "metadata": {
      "needs_background": "light"
     },
     "output_type": "display_data"
    }
   ],
   "source": [
    "#продолжительность пользования услугами банка\n",
    "data['Tenure'].hist(figsize=(16,6));"
   ]
  },
  {
   "cell_type": "code",
   "execution_count": 8,
   "metadata": {},
   "outputs": [
    {
     "data": {
      "image/png": "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\n",
      "text/plain": [
       "<Figure size 1152x432 with 1 Axes>"
      ]
     },
     "metadata": {
      "needs_background": "light"
     },
     "output_type": "display_data"
    }
   ],
   "source": [
    "#кол-во средств на счету\n",
    "data['Balance'].hist(figsize=(16,6));"
   ]
  },
  {
   "cell_type": "code",
   "execution_count": 9,
   "metadata": {},
   "outputs": [
    {
     "data": {
      "image/png": "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\n",
      "text/plain": [
       "<Figure size 1152x432 with 1 Axes>"
      ]
     },
     "metadata": {
      "needs_background": "light"
     },
     "output_type": "display_data"
    }
   ],
   "source": [
    "#кол-во подключенных услуг/продуктов банка на клиента\n",
    "data['NumOfProducts'].hist(figsize=(16,6));"
   ]
  },
  {
   "cell_type": "code",
   "execution_count": 10,
   "metadata": {},
   "outputs": [
    {
     "data": {
      "image/png": "iVBORw0KGgoAAAANSUhEUgAAA6UAAAFlCAYAAAATVk7bAAAAOXRFWHRTb2Z0d2FyZQBNYXRwbG90bGliIHZlcnNpb24zLjQuMywgaHR0cHM6Ly9tYXRwbG90bGliLm9yZy/MnkTPAAAACXBIWXMAAAsTAAALEwEAmpwYAAAdd0lEQVR4nO3df6xkZ3kf8O+TNXFcLzGmwNXGduNN5UQ1sQLxykpFE+2GCC+0jaEt0aKIOoV2UxXSRHGlmkRqqCJLSRsnUgkkXWRkNzgsLj9ki5omjhsHIREcTA3GGJcFHDB2dwsGA6nldJ2nf9zjZOzs3b3evfe+5979fKTRnHnPOTPvzHPPnfnOec+Z6u4AAADACN82ugMAAACcvoRSAAAAhhFKAQAAGEYoBQAAYBihFAAAgGGEUgAAAIY5Y3QHkuR5z3teX3jhhaO7cVx/9md/lrPPPnt0N1igJvOkLvOjJvOkLvOjJvOkLvOjJvM097rcddddX+nu5x9r3ixC6YUXXpiPfexjo7txXHfccUd27949uhssUJN5Upf5UZN5Upf5UZN5Upf5UZN5mntdqupPV5pn+C4AAADDCKUAAAAMI5QCAAAwjFAKAADAMEIpAAAAwwilAAAADCOUAgAAMIxQCgAAwDBCKQAAAMMIpQAAAAwjlAIAADCMUAoAAMAwQikAAADDnDG6AwBwOrrny4/mp67+bxvyWA/8yt/fkMcBgJNhTykAAADDCKUAAAAMI5QCAAAwjFAKAADAMEIpAAAAwwilAAAADCOUAgAAMIzfKQUAAJ7iwuP8jvJVlxxd099Z9lvK2FMKAADAMEIpAAAAw5xw+G5VfUeSDyU5c1r+Pd39S1X15iT/Isn/mRb9he6+dVrnTUlen+SJJP+6u39vHfoOAJzGjje88GQcb0ii4YUA62c1x5Q+nuRHu/tbVfWsJB+uqg9O836ju39tceGqujjJviQvTPJdSf6gqr63u59Yy44DnIy1/hB7PD7EAgCc2AlDaXd3km9NN581Xfo4q1yR5GB3P57kC1V1KMllST5yin0F4DhWCtxrfUKKROAGANbOqo4praptVXV3kiNJbuvuj06z3lhVn6yqd1TVuVPbeUm+tLD6g1MbAAAAPEUt7whd5cJVz0ny/iQ/k+VjSb+S5b2mv5xkR3e/rqremuQj3f3OaZ3rktza3e992n3tT7I/SZaWli49ePDgqT+bdfStb30r27dvH90NFqjJPM29Lvd8+dENe6xLzjtnwx4rWfm5LZ2VHH5sbR9ro5/bVnTkkUfXvC4r2ar1Wuvt+XjbylZ9DTeDub+vbFXH277W+n3F9rU25r6t7Nmz567u3nWsec/od0q7++tVdUeSvYvHklbV25N8YLr5YJILFlY7P8lDx7ivA0kOJMmuXbt69+7dz6QrG+6OO+7I3Pt4ulGTeZp7XdZ6GOvxPPCTuzfssZKVn9tVlxzNtfes7c9Sb/Rz24recuPNa16XlWzVeq319ny8bWWrvoab4Tj7ub+vbFXH277W+n1lq25fG20zbysnHL5bVc+f9pCmqs5K8mNJPlNVOxYWe1WST03TtyTZV1VnVtXOJBcluXNNew0AAMCWsJqvOHYkuaGqtmU5xN7U3R+oqt+pqhdlefjuA0l+Okm6+96quinJp5McTfIGZ94Fjmcjv6lnbWyGvSsAwOawmrPvfjLJi4/R/trjrHNNkmtOrWsAAABsdas6+y4AAACsh405wwKw6Zzs8Mz1+E1MAAC2LntKAQAAGMaeUgBmzUmVANiMNvpEjtfvPXtDH28tCaWrdM+XH92wIYk+FAGwWTmbNgDPlFAKAACbgC992KocUwoAAMAwQikAAADDCKUAAAAM45jSGXKmSQAA4HRhTykAAADD2FPKlmRvMwAAbA72lAIAADCMPaUAAKy7kx3FdNUlR/NTz3Bdo5hgcxFKAQBmZCMPQQGYA6EUAOAEBEWA9eOYUgAAAIaxpxQAABjGryYglAKsE8P9AGBevDfPk1AKp8i3e8Dc+RAGwJw5phQAAIBhhFIAAACGMXyXDbPWw8dO5se0NztD8AAA2GqEUgCYbOQXP1ddsmEPBQCzJpSe5ux5AwAARnJMKQAAAMPYUwoAACfJqDM4dfaUAgAAMIxQCgAAwDBCKQAAAMMIpQAAAAwjlAIAADCMs+8CALClOCMubC4n3FNaVd9RVXdW1Seq6t6q+vdT+3Or6raq+ux0fe7COm+qqkNVdX9VXb6eTwAAAIDNazXDdx9P8qPd/QNJXpRkb1X9UJKrk9ze3RcluX26naq6OMm+JC9MsjfJ26pq2zr0HQAAgE3uhKG0l31ruvms6dJJrkhyw9R+Q5JXTtNXJDnY3Y939xeSHEpy2Vp2GgAAgK1hVSc6qqptVXV3kiNJbuvujyZZ6u6Hk2S6fsG0+HlJvrSw+oNTGwAAADxFdffqF656TpL3J/mZJB/u7ucszPtad59bVW9N8pHufufUfl2SW7v7vU+7r/1J9ifJ0tLSpQcPHjzFp7K+jjzyaA4/NroXLFo6K2oyQ+oyP2oyT+oyP2oyT+oyP2oyTzvP2Zbt27eP7saK9uzZc1d37zrWvGd09t3u/npV3ZHlY0UPV9WO7n64qnZkeS9qsrxn9IKF1c5P8tAx7utAkgNJsmvXrt69e/cz6cqGe8uNN+fae5yseE6uuuSomsyQusyPmsyTusyPmsyTusyPmszT9XvPztwz1UpWc/bd5097SFNVZyX5sSSfSXJLkiunxa5McvM0fUuSfVV1ZlXtTHJRkjvXuN8AAABsAav5imNHkhumM+h+W5KbuvsDVfWRJDdV1euTfDHJq5Oku++tqpuSfDrJ0SRv6O4n1qf7AAAAbGYnDKXd/ckkLz5G+1eTvHSFda5Jcs0p9w4AAIAtbVVn3wUAAID1IJQCAAAwjFAKAADAMEIpAAAAwwilAAAADCOUAgAAMIxQCgAAwDBCKQAAAMMIpQAAAAwjlAIAADCMUAoAAMAwQikAAADDCKUAAAAMI5QCAAAwjFAKAADAMEIpAAAAwwilAAAADCOUAgAAMIxQCgAAwDBCKQAAAMMIpQAAAAwjlAIAADCMUAoAAMAwQikAAADDCKUAAAAMI5QCAAAwjFAKAADAMEIpAAAAwwilAAAADCOUAgAAMIxQCgAAwDBCKQAAAMMIpQAAAAwjlAIAADDMCUNpVV1QVX9YVfdV1b1V9bNT+5ur6stVdfd0ecXCOm+qqkNVdX9VXb6eTwAAAIDN64xVLHM0yVXd/fGqenaSu6rqtmneb3T3ry0uXFUXJ9mX5IVJvivJH1TV93b3E2vZcQAAADa/E+4p7e6Hu/vj0/Q3k9yX5LzjrHJFkoPd/Xh3fyHJoSSXrUVnAQAA2Fqqu1e/cNWFST6U5PuT/HySn0ryjSQfy/Le1K9V1W8m+ePufue0znVJPtjd73nafe1Psj9JlpaWLj148OApP5n1dOSRR3P4sdG9YNHSWVGTGVKX+VGTeVKX+VGTeVKX+VGTedp5zrZs3759dDdWtGfPnru6e9ex5q1m+G6SpKq2J3lvkp/r7m9U1W8l+eUkPV1fm+R1SeoYq/+15NvdB5IcSJJdu3b17t27V9uVId5y48259p5Vv1xsgKsuOaomM6Qu86Mm86Qu86Mm86Qu86Mm83T93rMz90y1klWdfbeqnpXlQHpjd78vSbr7cHc/0d1/keTt+ashug8muWBh9fOTPLR2XQYAAGCrWM3ZdyvJdUnu6+5fX2jfsbDYq5J8apq+Jcm+qjqzqnYmuSjJnWvXZQAAALaK1ex3f0mS1ya5p6runtp+IclrqupFWR6a+0CSn06S7r63qm5K8uksn7n3Dc68CwAAwLGcMJR294dz7ONEbz3OOtckueYU+gUAAMBpYFXHlAIAAMB6EEoBAAAYRigFAABgGKEUAACAYYRSAAAAhhFKAQAAGEYoBQAAYBihFAAAgGGEUgAAAIYRSgEAABhGKAUAAGAYoRQAAIBhhFIAAACGEUoBAAAYRigFAABgGKEUAACAYYRSAAAAhhFKAQAAGEYoBQAAYBihFAAAgGGEUgAAAIYRSgEAABhGKAUAAGAYoRQAAIBhhFIAAACGEUoBAAAYRigFAABgGKEUAACAYYRSAAAAhhFKAQAAGEYoBQAAYBihFAAAgGGEUgAAAIY5YSitqguq6g+r6r6qureqfnZqf25V3VZVn52uz11Y501Vdaiq7q+qy9fzCQAAALB5rWZP6dEkV3X330nyQ0neUFUXJ7k6ye3dfVGS26fbmebtS/LCJHuTvK2qtq1H5wEAANjcThhKu/vh7v74NP3NJPclOS/JFUlumBa7Ickrp+krkhzs7se7+wtJDiW5bI37DQAAwBbwjI4praoLk7w4yUeTLHX3w8lycE3ygmmx85J8aWG1B6c2AAAAeIrq7tUtWLU9yR8luaa731dVX+/u5yzM/1p3n1tVb03yke5+59R+XZJbu/u9T7u//Un2J8nS0tKlBw8eXJMntF6OPPJoDj82uhcsWjorajJD6jI/ajJP6jI/ajJP6jI/ajJPO8/Zlu3bt4/uxor27NlzV3fvOta8M1ZzB1X1rCTvTXJjd79vaj5cVTu6++Gq2pHkyNT+YJILFlY/P8lDT7/P7j6Q5ECS7Nq1q3fv3r2argzzlhtvzrX3rOrlYoNcdclRNZkhdZkfNZkndZkfNZkndZkfNZmn6/eenblnqpWs5uy7leS6JPd1968vzLolyZXT9JVJbl5o31dVZ1bVziQXJblz7boMAADAVrGarzhekuS1Se6pqruntl9I8itJbqqq1yf5YpJXJ0l331tVNyX5dJbP3PuG7n5irTsOAADA5nfCUNrdH05SK8x+6QrrXJPkmlPoFwAAAKeBZ3T2XQAAAFhLQikAAADDCKUAAAAMI5QCAAAwjFAKAADAMEIpAAAAwwilAAAADCOUAgAAMIxQCgAAwDBCKQAAAMMIpQAAAAwjlAIAADCMUAoAAMAwQikAAADDCKUAAAAMI5QCAAAwjFAKAADAMEIpAAAAwwilAAAADCOUAgAAMIxQCgAAwDBCKQAAAMMIpQAAAAwjlAIAADCMUAoAAMAwQikAAADDCKUAAAAMI5QCAAAwjFAKAADAMEIpAAAAwwilAAAADCOUAgAAMIxQCgAAwDAnDKVV9Y6qOlJVn1poe3NVfbmq7p4ur1iY96aqOlRV91fV5evVcQAAADa/1ewpvT7J3mO0/0Z3v2i63JokVXVxkn1JXjit87aq2rZWnQUAAGBrOWEo7e4PJXlklfd3RZKD3f14d38hyaEkl51C/wAAANjCTuWY0jdW1Sen4b3nTm3nJfnSwjIPTm0AAADw11R3n3ihqguTfKC7v3+6vZTkK0k6yS8n2dHdr6uqtyb5SHe/c1ruuiS3dvd7j3Gf+5PsT5KlpaVLDx48uDbPaJ0ceeTRHH5sdC9YtHRW1GSG1GV+1GSe1GV+1GSe1GV+1GSedp6zLdu3bx/djRXt2bPnru7edax5Z5zMHXb34Senq+rtST4w3XwwyQULi56f5KEV7uNAkgNJsmvXrt69e/fJdGXDvOXGm3PtPSf1crFOrrrkqJrMkLrMj5rMk7rMj5rMk7rMj5rM0/V7z87cM9VKTmr4blXtWLj5qiRPnpn3liT7qurMqtqZ5KIkd55aFwEAANiqTvgVR1W9K8nuJM+rqgeT/FKS3VX1oiwP330gyU8nSXffW1U3Jfl0kqNJ3tDdT6xLzwEAANj0ThhKu/s1x2i+7jjLX5PkmlPpFAAAAKeHUzn7LgAAAJwSoRQAAIBhhFIAAACGEUoBAAAYRigFAABgGKEUAACAYYRSAAAAhhFKAQAAGEYoBQAAYBihFAAAgGGEUgAAAIYRSgEAABhGKAUAAGAYoRQAAIBhhFIAAACGEUoBAAAYRigFAABgGKEUAACAYYRSAAAAhhFKAQAAGEYoBQAAYBihFAAAgGGEUgAAAIYRSgEAABhGKAUAAGAYoRQAAIBhhFIAAACGEUoBAAAYRigFAABgGKEUAACAYYRSAAAAhhFKAQAAGEYoBQAAYBihFAAAgGFOGEqr6h1VdaSqPrXQ9tyquq2qPjtdn7sw701Vdaiq7q+qy9er4wAAAGx+q9lTen2SvU9ruzrJ7d19UZLbp9upqouT7Evywmmdt1XVtjXrLQAAAFvKCUNpd38oySNPa74iyQ3T9A1JXrnQfrC7H+/uLyQ5lOSytekqAAAAW01194kXqrowyQe6+/un21/v7ucszP9ad59bVb+Z5I+7+51T+3VJPtjd7znGfe5Psj9JlpaWLj148OAaPJ31c+SRR3P4sdG9YNHSWVGTGVKX+VGTeVKX+VGTeVKX+VGTedp5zrZs3759dDdWtGfPnru6e9ex5p2xxo9Vx2g7Zurt7gNJDiTJrl27evfu3WvclbX1lhtvzrX3rPXLxam46pKjajJD6jI/ajJP6jI/ajJP6jI/ajJP1+89O3PPVCs52bPvHq6qHUkyXR+Z2h9McsHCcucneejkuwcAAMBWdrKh9JYkV07TVya5eaF9X1WdWVU7k1yU5M5T6yIAAABb1Qn3u1fVu5LsTvK8qnowyS8l+ZUkN1XV65N8Mcmrk6S7762qm5J8OsnRJG/o7ifWqe8AAABscicMpd39mhVmvXSF5a9Jcs2pdAoAAIDTw8kO3wUAAIBTJpQCAAAwjFAKAADAMEIpAAAAwwilAAAADCOUAgAAMIxQCgAAwDBCKQAAAMMIpQAAAAwjlAIAADCMUAoAAMAwQikAAADDCKUAAAAMI5QCAAAwjFAKAADAMEIpAAAAwwilAAAADCOUAgAAMIxQCgAAwDBCKQAAAMMIpQAAAAwjlAIAADCMUAoAAMAwQikAAADDCKUAAAAMI5QCAAAwjFAKAADAMEIpAAAAwwilAAAADCOUAgAAMIxQCgAAwDBCKQAAAMMIpQAAAAxzxqmsXFUPJPlmkieSHO3uXVX13CTvTnJhkgeS/ER3f+3UugkAAMBWtBZ7Svd094u6e9d0++okt3f3RUlun24DAADAX7Mew3evSHLDNH1Dkleuw2MAAACwBVR3n/zKVV9I8rUkneQ/d/eBqvp6dz9nYZmvdfe5x1h3f5L9SbK0tHTpwYMHT7ofG+HII4/m8GOje8GipbOiJjOkLvOjJvOkLvOjJvOkLvOjJvO085xt2b59++hurGjPnj13LYyufYpTOqY0yUu6+6GqekGS26rqM6tdsbsPJDmQJLt27erdu3efYlfW11tuvDnX3nOqLxdr6apLjqrJDKnL/KjJPKnL/KjJPKnL/KjJPF2/9+zMPVOt5JSG73b3Q9P1kSTvT3JZksNVtSNJpusjp9pJAAAAtqaTDqVVdXZVPfvJ6SQvS/KpJLckuXJa7MokN59qJwEAANiaTmW/+1KS91fVk/fzu93936vqT5LcVFWvT/LFJK8+9W4CAACwFZ10KO3uzyf5gWO0fzXJS0+lUwAAAJwe1uMnYQAAAGBVhFIAAACGEUoBAAAYRigFAABgGKEUAACAYYRSAAAAhhFKAQAAGEYoBQAAYBihFAAAgGGEUgAAAIYRSgEAABhGKAUAAGAYoRQAAIBhhFIAAACGEUoBAAAYRigFAABgGKEUAACAYYRSAAAAhhFKAQAAGEYoBQAAYBihFAAAgGGEUgAAAIYRSgEAABhGKAUAAGAYoRQAAIBhhFIAAACGEUoBAAAYRigFAABgGKEUAACAYYRSAAAAhhFKAQAAGEYoBQAAYBihFAAAgGHWLZRW1d6qur+qDlXV1ev1OAAAAGxe6xJKq2pbkrcmeXmSi5O8pqouXo/HAgAAYPNarz2llyU51N2f7+4/T3IwyRXr9FgAAABsUusVSs9L8qWF2w9ObQAAAPCXqrvX/k6rXp3k8u7+59Pt1ya5rLt/ZmGZ/Un2Tze/L8n9a96RtfW8JF8Z3QmeQk3mSV3mR03mSV3mR03mSV3mR03mae51+e7ufv6xZpyxTg/4YJILFm6fn+ShxQW6+0CSA+v0+Guuqj7W3btG94O/oibzpC7zoybzpC7zoybzpC7zoybztJnrsl7Dd/8kyUVVtbOqvj3JviS3rNNjAQAAsEmty57S7j5aVW9M8ntJtiV5R3ffux6PBQAAwOa1XsN30923Jrl1ve5/gE0z1Pg0oibzpC7zoybzpC7zoybzpC7zoybztGnrsi4nOgIAAIDVWK9jSgEAAOCEhNITqKq9VXV/VR2qqqtH92erqaoLquoPq+q+qrq3qn52an9zVX25qu6eLq9YWOdNUz3ur6rLF9ovrap7pnn/qapqaj+zqt49tX+0qi7c8Ce6CVXVA9PreXdVfWxqe25V3VZVn52uz11YXl3WUVV938L2cHdVfaOqfs62svGq6h1VdaSqPrXQtiHbRlVdOT3GZ6vqyg16yrO3Qk3+Y1V9pqo+WVXvr6rnTO0XVtVjC9vMby+soyZraIW6bMj/LHU5thVq8u6FejxQVXdP7baVDVArfxY+vd5XuttlhUuWT9L0uSTfk+Tbk3wiycWj+7WVLkl2JPnBafrZSf5XkouTvDnJvznG8hdPdTgzyc6pPtumeXcm+btJKskHk7x8av9XSX57mt6X5N2jn/dmuCR5IMnzntb2H5JcPU1fneRX1WVIbbYl+d9Jvtu2MuT1/5EkP5jkUwtt675tJHluks9P1+dO0+eOfj3mcFmhJi9LcsY0/asLNblwcbmn3Y+arH9d1v1/lro8s5o8bf61Sf7dNG1b2ZiarPRZ+LR6X7Gn9PguS3Kouz/f3X+e5GCSKwb3aUvp7oe7++PT9DeT3JfkvOOsckWSg939eHd/IcmhJJdV1Y4k39ndH+nlrey/JHnlwjo3TNPvSfLSJ7854hlbfC1vyFNfY3XZOC9N8rnu/tPjLKMm66S7P5Tkkac1b8S2cXmS27r7ke7+WpLbkuxd6+e3GR2rJt39+919dLr5x1n+zfQVqcnaW2FbWYltZQMcrybTa/cTSd51vPtQk7V1nM/Cp9X7ilB6fOcl+dLC7Qdz/MDEKZiGErw4yUenpjfW8rCrdywMWVipJudN009vf8o60weUR5P8zfV4DltMJ/n9qrqrqvZPbUvd/XCy/E80yQumdnXZWPvy1A8NtpXxNmLb8J508l6X5b0GT9pZVf+zqv6oqn54alOTjbPe/7PU5eT8cJLD3f3ZhTbbygZ62mfh0+p9RSg9vmPtIXC64nVQVduTvDfJz3X3N5L8VpK/neRFSR7O8nCSZOWaHK9W6nhyXtLdP5jk5UneUFU/cpxl1WWDVNW3J/nxJP91arKtzNta1kF9TkJV/WKSo0lunJoeTvK3uvvFSX4+ye9W1XdGTTbKRvzPUpeT85o89QtP28oGOsZn4RUXPUbbpt9WhNLjezDJBQu3z0/y0KC+bFlV9awsb4Q3dvf7kqS7D3f3E939F0nenuWh1MnKNXkwTx2atVirv1ynqs5Ick5WP5zotNXdD03XR5K8P8s1ODwND3ly+M6RaXF12TgvT/Lx7j6c2FZmZCO2De9Jz9B00o5/kOQnp+FsmYa8fXWavivLx2N9b9RkQ2zQ/yx1eYam1+8fJXn3k222lY1zrM/COc3eV4TS4/uTJBdV1c5p78S+JLcM7tOWMo1nvy7Jfd396wvtOxYWe1WSJ88Sd0uSfdNZxHYmuSjJndOwhm9W1Q9N9/lPk9y8sM6V0/Q/SfI/nvxwwrFV1dlV9ewnp7N8wpBP5amv5ZV56musLhvjKd9k21ZmYyO2jd9L8rKqOnca8viyqY1jqKq9Sf5tkh/v7v+70P78qto2TX9PlmvyeTXZGBv0P0tdnrkfS/KZ7v7L4Z+2lY2x0mfhnG7vKz2Ds07N+ZLkFVk+C9bnkvzi6P5stUuSv5flYQKfTHL3dHlFkt9Jcs/UfkuSHQvr/OJUj/sznVVsat+V5Te3zyX5zSQ1tX9Hloc6HsryWcm+Z/Tznvsly2ec/sR0uffJv/0sH39we5LPTtfPVZcNrcvfSPLVJOcstNlWNr4O78rysLb/l+VvmV+/UdtGlo+NPDRd/tno12IulxVqcijLx0o9+d7y5Jkn//H0f+0TST6e5B+qyYbWZUP+Z6nL6msytV+f5F8+bVnbysbUZKXPwqfV+8qTHQUAAIANZ/guAAAAwwilAAAADCOUAgAAMIxQCgAAwDBCKQAAAMMIpQAAAAwjlAIAADCMUAoAAMAw/x9gFSqOZdC2zgAAAABJRU5ErkJggg==\n",
      "text/plain": [
       "<Figure size 1152x432 with 1 Axes>"
      ]
     },
     "metadata": {
      "needs_background": "light"
     },
     "output_type": "display_data"
    }
   ],
   "source": [
    "#предполагаема зарплата\n",
    "data['EstimatedSalary'].hist(figsize=(16,6), bins=30);"
   ]
  },
  {
   "cell_type": "code",
   "execution_count": 11,
   "metadata": {
    "scrolled": true
   },
   "outputs": [
    {
     "data": {
      "text/html": [
       "<div>\n",
       "<style scoped>\n",
       "    .dataframe tbody tr th:only-of-type {\n",
       "        vertical-align: middle;\n",
       "    }\n",
       "\n",
       "    .dataframe tbody tr th {\n",
       "        vertical-align: top;\n",
       "    }\n",
       "\n",
       "    .dataframe thead th {\n",
       "        text-align: right;\n",
       "    }\n",
       "</style>\n",
       "<table border=\"1\" class=\"dataframe\">\n",
       "  <thead>\n",
       "    <tr style=\"text-align: right;\">\n",
       "      <th></th>\n",
       "      <th>Age</th>\n",
       "      <th>Tenure</th>\n",
       "      <th>Balance</th>\n",
       "      <th>NumOfProducts</th>\n",
       "      <th>EstimatedSalary</th>\n",
       "    </tr>\n",
       "  </thead>\n",
       "  <tbody>\n",
       "    <tr>\n",
       "      <th>count</th>\n",
       "      <td>10000.000000</td>\n",
       "      <td>9091.000000</td>\n",
       "      <td>10000.000000</td>\n",
       "      <td>10000.000000</td>\n",
       "      <td>10000.000000</td>\n",
       "    </tr>\n",
       "    <tr>\n",
       "      <th>mean</th>\n",
       "      <td>38.921800</td>\n",
       "      <td>4.997690</td>\n",
       "      <td>76485.889288</td>\n",
       "      <td>1.530200</td>\n",
       "      <td>100090.239881</td>\n",
       "    </tr>\n",
       "    <tr>\n",
       "      <th>std</th>\n",
       "      <td>10.487806</td>\n",
       "      <td>2.894723</td>\n",
       "      <td>62397.405202</td>\n",
       "      <td>0.581654</td>\n",
       "      <td>57510.492818</td>\n",
       "    </tr>\n",
       "    <tr>\n",
       "      <th>min</th>\n",
       "      <td>18.000000</td>\n",
       "      <td>0.000000</td>\n",
       "      <td>0.000000</td>\n",
       "      <td>1.000000</td>\n",
       "      <td>11.580000</td>\n",
       "    </tr>\n",
       "    <tr>\n",
       "      <th>25%</th>\n",
       "      <td>32.000000</td>\n",
       "      <td>2.000000</td>\n",
       "      <td>0.000000</td>\n",
       "      <td>1.000000</td>\n",
       "      <td>51002.110000</td>\n",
       "    </tr>\n",
       "    <tr>\n",
       "      <th>50%</th>\n",
       "      <td>37.000000</td>\n",
       "      <td>5.000000</td>\n",
       "      <td>97198.540000</td>\n",
       "      <td>1.000000</td>\n",
       "      <td>100193.915000</td>\n",
       "    </tr>\n",
       "    <tr>\n",
       "      <th>75%</th>\n",
       "      <td>44.000000</td>\n",
       "      <td>7.000000</td>\n",
       "      <td>127644.240000</td>\n",
       "      <td>2.000000</td>\n",
       "      <td>149388.247500</td>\n",
       "    </tr>\n",
       "    <tr>\n",
       "      <th>max</th>\n",
       "      <td>92.000000</td>\n",
       "      <td>10.000000</td>\n",
       "      <td>250898.090000</td>\n",
       "      <td>4.000000</td>\n",
       "      <td>199992.480000</td>\n",
       "    </tr>\n",
       "  </tbody>\n",
       "</table>\n",
       "</div>"
      ],
      "text/plain": [
       "                Age       Tenure        Balance  NumOfProducts  \\\n",
       "count  10000.000000  9091.000000   10000.000000   10000.000000   \n",
       "mean      38.921800     4.997690   76485.889288       1.530200   \n",
       "std       10.487806     2.894723   62397.405202       0.581654   \n",
       "min       18.000000     0.000000       0.000000       1.000000   \n",
       "25%       32.000000     2.000000       0.000000       1.000000   \n",
       "50%       37.000000     5.000000   97198.540000       1.000000   \n",
       "75%       44.000000     7.000000  127644.240000       2.000000   \n",
       "max       92.000000    10.000000  250898.090000       4.000000   \n",
       "\n",
       "       EstimatedSalary  \n",
       "count     10000.000000  \n",
       "mean     100090.239881  \n",
       "std       57510.492818  \n",
       "min          11.580000  \n",
       "25%       51002.110000  \n",
       "50%      100193.915000  \n",
       "75%      149388.247500  \n",
       "max      199992.480000  "
      ]
     },
     "execution_count": 11,
     "metadata": {},
     "output_type": "execute_result"
    }
   ],
   "source": [
    "#изучим статистику по численным признакам\n",
    "#исключим строковые и булевы признаки\n",
    "data[['Age', 'Tenure', 'Balance', 'NumOfProducts', 'EstimatedSalary']].describe()"
   ]
  },
  {
   "cell_type": "code",
   "execution_count": 12,
   "metadata": {
    "scrolled": true
   },
   "outputs": [
    {
     "data": {
      "text/plain": [
       "RowNumber          0.0000\n",
       "CustomerId         0.0000\n",
       "Surname            0.0000\n",
       "CreditScore        0.0000\n",
       "Geography          0.0000\n",
       "Gender             0.0000\n",
       "Age                0.0000\n",
       "Tenure             0.0909\n",
       "Balance            0.0000\n",
       "NumOfProducts      0.0000\n",
       "HasCrCard          0.0000\n",
       "IsActiveMember     0.0000\n",
       "EstimatedSalary    0.0000\n",
       "Exited             0.0000\n",
       "dtype: float64"
      ]
     },
     "execution_count": 12,
     "metadata": {},
     "output_type": "execute_result"
    }
   ],
   "source": [
    "data.isna().mean()"
   ]
  },
  {
   "cell_type": "code",
   "execution_count": 13,
   "metadata": {},
   "outputs": [],
   "source": [
    "tenure_median = data['Tenure'].median()"
   ]
  },
  {
   "cell_type": "code",
   "execution_count": 14,
   "metadata": {},
   "outputs": [],
   "source": [
    "data['Tenure'] = data['Tenure'].fillna(tenure_median)"
   ]
  },
  {
   "cell_type": "markdown",
   "metadata": {},
   "source": [
    "### Выводы о природе данных после ознакомления\n",
    "\n",
    "* Мы имеем дело с данными клиентов банка. В нашем датасете представлены 14 показателей и 10000 значений. \n",
    "* На первый взгляд значения в столбцах имеют подходящие типы, строковых значений не так много: только для фамилий, пола и страны проживания. Поэтому преобразования типов не потребуются.\n",
    "* Графа возраста демонстрирует, что у банка есть клиенты самых разных возрастов: в среднем им около 39 лет, судя по квартилям большей части от 30 до 45 лет, в то время, как самому молодому всего 18 лет(вполне логично), а самому пожилому 92 года.\n",
    "* Также вызывает интерес столбец с продолжительностью сотрудничества с банком('Tenure'): в среднем клиенты пользуются нашими услугами 5 лет, граница первого квартиля проходит по границе 2 года, т.е. четверть клиентов работает с нами от 2х лет и меньше. А 25% процентов самых лояльных клиентов доверяет нам свои средства от 7 лет и дольше. Максимальный срок пользования нашими услугами составил 10 лет и таких клиентов много(см. график выше).  \n",
    "* Баланс на счете тоже может играть важную роль в работе нашей модели, ведь по этой сумме можно судить о достатке клиента, а также к уровню доверия к банку. В среднем наш клиент хранит около 76,5 тыс. на своем счету, примерно половина имеет там около 100 тыс. или меньше(граница второго квартиля 97,2 тыс, она же медиана), а максимальные суммы совокупных средств на счету достигают четверти миллиона. Но в целом кол-во средств на счету распределено очень равномерно, без выбросов.\n",
    "* Не очень подробной, но довольно красноречивой метрикой можно назвать количество продуктов банка у клиента: в среднем клиент имеет один продукт банка, вероятнее всего карту и счет. Примерно четверть наших клиентов имеет от 1 до 2х продуктов, а максимум для этого показателя - 4 продукта.\n",
    "* Также, как и кол-во средств на счету, нашей модели многое может сказать примерный доход клиента. Здесть также наблюдается большой разброс: в среднем наши клиенты получают 100 тыс. Минимальный показатель составил 11,58, видимо, здесь имеет место ошибка или почасовая плата. Максимальный доход составил 200 тыс., что превышает средний и медианный показатель вдвое.\n",
    "* Пропусков в данных почти нет, лишь несколько значений в графе \"кол-во лет использования услуг банка\""
   ]
  },
  {
   "cell_type": "markdown",
   "metadata": {},
   "source": [
    "## Исследование задачи"
   ]
  },
  {
   "cell_type": "markdown",
   "metadata": {},
   "source": [
    "**Прежде чем перейти к обучению модели и подбору оптимальных гиперпараметров, мы изучим целевой признак на предмет сбалансированности**"
   ]
  },
  {
   "cell_type": "code",
   "execution_count": 15,
   "metadata": {},
   "outputs": [
    {
     "data": {
      "text/plain": [
       "0    7963\n",
       "1    2037\n",
       "Name: Exited, dtype: int64"
      ]
     },
     "execution_count": 15,
     "metadata": {},
     "output_type": "execute_result"
    }
   ],
   "source": [
    "#посмотрим на баланс целевого признака, который необходимо предсказывать\n",
    "data['Exited'].value_counts()"
   ]
  },
  {
   "cell_type": "markdown",
   "metadata": {},
   "source": [
    "*Мы наблюдаем несбалансированность в целевом признаке, те, кто остался преобладают в соотношении 3:1 к тем, кто расторг контракт с банком* \n",
    "Но на данном этапе мы проигнорируем это обстоятельство и займемся обучением модели, а затем поработаем с балансом классов."
   ]
  },
  {
   "cell_type": "code",
   "execution_count": 16,
   "metadata": {},
   "outputs": [
    {
     "data": {
      "text/plain": [
       "array(['France', 'Spain', 'Germany'], dtype=object)"
      ]
     },
     "execution_count": 16,
     "metadata": {},
     "output_type": "execute_result"
    }
   ],
   "source": [
    "data['Geography'].unique()"
   ]
  },
  {
   "cell_type": "markdown",
   "metadata": {},
   "source": [
    "Похоже, что далеко не все столбцы будут полезны для обучения наших моделей, поэтому столбцы с номером ряда и фамилией целесообразно просто исключить из набора признаков для обучения, а значения \"страны проживания\" мы закодируем в виде числовых соответствий техникой One-hot encoding, поскольку уникальных значений в нем всего 3(см. выше)"
   ]
  },
  {
   "cell_type": "code",
   "execution_count": 17,
   "metadata": {},
   "outputs": [],
   "source": [
    "#создаем дамми-переменные в отдельной переменной\n",
    "dummy = pd.get_dummies(data['Geography'], drop_first=True)"
   ]
  },
  {

   ]
  },
  {
   "cell_type": "code",
   "execution_count": 18,
   "metadata": {},
   "outputs": [
    {
     "data": {
      "text/html": [
       "<div>\n",
       "<style scoped>\n",
       "    .dataframe tbody tr th:only-of-type {\n",
       "        vertical-align: middle;\n",
       "    }\n",
       "\n",
       "    .dataframe tbody tr th {\n",
       "        vertical-align: top;\n",
       "    }\n",
       "\n",
       "    .dataframe thead th {\n",
       "        text-align: right;\n",
       "    }\n",
       "</style>\n",
       "<table border=\"1\" class=\"dataframe\">\n",
       "  <thead>\n",
       "    <tr style=\"text-align: right;\">\n",
       "      <th></th>\n",
       "      <th>Germany</th>\n",
       "      <th>Spain</th>\n",
       "    </tr>\n",
       "  </thead>\n",
       "  <tbody>\n",
       "    <tr>\n",
       "      <th>0</th>\n",
       "      <td>0</td>\n",
       "      <td>0</td>\n",
       "    </tr>\n",
       "    <tr>\n",
       "      <th>1</th>\n",
       "      <td>0</td>\n",
       "      <td>1</td>\n",
       "    </tr>\n",
       "    <tr>\n",
       "      <th>2</th>\n",
       "      <td>0</td>\n",
       "      <td>0</td>\n",
       "    </tr>\n",
       "    <tr>\n",
       "      <th>3</th>\n",
       "      <td>0</td>\n",
       "      <td>0</td>\n",
       "    </tr>\n",
       "    <tr>\n",
       "      <th>4</th>\n",
       "      <td>0</td>\n",
       "      <td>1</td>\n",
       "    </tr>\n",
       "  </tbody>\n",
       "</table>\n",
       "</div>"
      ],
      "text/plain": [
       "   Germany  Spain\n",
       "0        0      0\n",
       "1        0      1\n",
       "2        0      0\n",
       "3        0      0\n",
       "4        0      1"
      ]
     },
     "execution_count": 18,
     "metadata": {},
     "output_type": "execute_result"
    }
   ],
   "source": [
    "#проверяем\n",
    "dummy.head()"
   ]
  },
  {
   "cell_type": "code",
   "execution_count": 19,
   "metadata": {},
   "outputs": [],
   "source": [
    "#добавим новые столбцы к датасету\n",
    "data = pd.concat([data, dummy], axis=1)"
   ]
  },
  {
   "cell_type": "code",
   "execution_count": 20,
   "metadata": {},
   "outputs": [],
   "source": [
    "#теперь закодируем аналогичным образом пол клиентов\n",
    "#так данные должны занимать меньше места\n",
    "dummy_gender = pd.get_dummies(data['Gender'], drop_first=True)"
   ]
  },
  {
   "cell_type": "code",
   "execution_count": 21,
   "metadata": {},
   "outputs": [
    {
     "data": {
      "text/html": [
       "<div>\n",
       "<style scoped>\n",
       "    .dataframe tbody tr th:only-of-type {\n",
       "        vertical-align: middle;\n",
       "    }\n",
       "\n",
       "    .dataframe tbody tr th {\n",
       "        vertical-align: top;\n",
       "    }\n",
       "\n",
       "    .dataframe thead th {\n",
       "        text-align: right;\n",
       "    }\n",
       "</style>\n",
       "<table border=\"1\" class=\"dataframe\">\n",
       "  <thead>\n",
       "    <tr style=\"text-align: right;\">\n",
       "      <th></th>\n",
       "      <th>Male</th>\n",
       "    </tr>\n",
       "  </thead>\n",
       "  <tbody>\n",
       "    <tr>\n",
       "      <th>9729</th>\n",
       "      <td>1</td>\n",
       "    </tr>\n",
       "    <tr>\n",
       "      <th>1047</th>\n",
       "      <td>0</td>\n",
       "    </tr>\n",
       "    <tr>\n",
       "      <th>6362</th>\n",
       "      <td>1</td>\n",
       "    </tr>\n",
       "    <tr>\n",
       "      <th>1336</th>\n",
       "      <td>1</td>\n",
       "    </tr>\n",
       "    <tr>\n",
       "      <th>3514</th>\n",
       "      <td>0</td>\n",
       "    </tr>\n",
       "    <tr>\n",
       "      <th>2531</th>\n",
       "      <td>1</td>\n",
       "    </tr>\n",
       "    <tr>\n",
       "      <th>5750</th>\n",
       "      <td>1</td>\n",
       "    </tr>\n",
       "    <tr>\n",
       "      <th>5408</th>\n",
       "      <td>0</td>\n",
       "    </tr>\n",
       "    <tr>\n",
       "      <th>5716</th>\n",
       "      <td>1</td>\n",
       "    </tr>\n",
       "    <tr>\n",
       "      <th>5516</th>\n",
       "      <td>1</td>\n",
       "    </tr>\n",
       "    <tr>\n",
       "      <th>6056</th>\n",
       "      <td>1</td>\n",
       "    </tr>\n",
       "    <tr>\n",
       "      <th>4654</th>\n",
       "      <td>0</td>\n",
       "    </tr>\n",
       "  </tbody>\n",
       "</table>\n",
       "</div>"
      ],
      "text/plain": [
       "      Male\n",
       "9729     1\n",
       "1047     0\n",
       "6362     1\n",
       "1336     1\n",
       "3514     0\n",
       "2531     1\n",
       "5750     1\n",
       "5408     0\n",
       "5716     1\n",
       "5516     1\n",
       "6056     1\n",
       "4654     0"
      ]
     },
     "execution_count": 21,
     "metadata": {},
     "output_type": "execute_result"
    }
   ],
   "source": [
    "dummy_gender.sample(12)"
   ]
  },
  {
   "cell_type": "code",
   "execution_count": 22,
   "metadata": {},
   "outputs": [],
   "source": [
    "data = pd.concat([data, dummy_gender], axis=1)"
   ]
  },
  {
   "cell_type": "code",
   "execution_count": 23,
   "metadata": {
    "scrolled": true
   },
   "outputs": [
    {
     "data": {
      "text/html": [
       "<div>\n",
       "<style scoped>\n",
       "    .dataframe tbody tr th:only-of-type {\n",
       "        vertical-align: middle;\n",
       "    }\n",
       "\n",
       "    .dataframe tbody tr th {\n",
       "        vertical-align: top;\n",
       "    }\n",
       "\n",
       "    .dataframe thead th {\n",
       "        text-align: right;\n",
       "    }\n",
       "</style>\n",
       "<table border=\"1\" class=\"dataframe\">\n",
       "  <thead>\n",
       "    <tr style=\"text-align: right;\">\n",
       "      <th></th>\n",
       "      <th>RowNumber</th>\n",
       "      <th>CustomerId</th>\n",
       "      <th>Surname</th>\n",
       "      <th>CreditScore</th>\n",
       "      <th>Geography</th>\n",
       "      <th>Gender</th>\n",
       "      <th>Age</th>\n",
       "      <th>Tenure</th>\n",
       "      <th>Balance</th>\n",
       "      <th>NumOfProducts</th>\n",
       "      <th>HasCrCard</th>\n",
       "      <th>IsActiveMember</th>\n",
       "      <th>EstimatedSalary</th>\n",
       "      <th>Exited</th>\n",
       "      <th>Germany</th>\n",
       "      <th>Spain</th>\n",
       "      <th>Male</th>\n",
       "    </tr>\n",
       "  </thead>\n",
       "  <tbody>\n",
       "    <tr>\n",
       "      <th>0</th>\n",
       "      <td>1</td>\n",
       "      <td>15634602</td>\n",
       "      <td>Hargrave</td>\n",
       "      <td>619</td>\n",
       "      <td>France</td>\n",
       "      <td>Female</td>\n",
       "      <td>42</td>\n",
       "      <td>2.0</td>\n",
       "      <td>0.00</td>\n",
       "      <td>1</td>\n",
       "      <td>1</td>\n",
       "      <td>1</td>\n",
       "      <td>101348.88</td>\n",
       "      <td>1</td>\n",
       "      <td>0</td>\n",
       "      <td>0</td>\n",
       "      <td>0</td>\n",
       "    </tr>\n",
       "    <tr>\n",
       "      <th>1</th>\n",
       "      <td>2</td>\n",
       "      <td>15647311</td>\n",
       "      <td>Hill</td>\n",
       "      <td>608</td>\n",
       "      <td>Spain</td>\n",
       "      <td>Female</td>\n",
       "      <td>41</td>\n",
       "      <td>1.0</td>\n",
       "      <td>83807.86</td>\n",
       "      <td>1</td>\n",
       "      <td>0</td>\n",
       "      <td>1</td>\n",
       "      <td>112542.58</td>\n",
       "      <td>0</td>\n",
       "      <td>0</td>\n",
       "      <td>1</td>\n",
       "      <td>0</td>\n",
       "    </tr>\n",
       "    <tr>\n",
       "      <th>2</th>\n",
       "      <td>3</td>\n",
       "      <td>15619304</td>\n",
       "      <td>Onio</td>\n",
       "      <td>502</td>\n",
       "      <td>France</td>\n",
       "      <td>Female</td>\n",
       "      <td>42</td>\n",
       "      <td>8.0</td>\n",
       "      <td>159660.80</td>\n",
       "      <td>3</td>\n",
       "      <td>1</td>\n",
       "      <td>0</td>\n",
       "      <td>113931.57</td>\n",
       "      <td>1</td>\n",
       "      <td>0</td>\n",
       "      <td>0</td>\n",
       "      <td>0</td>\n",
       "    </tr>\n",
       "    <tr>\n",
       "      <th>3</th>\n",
       "      <td>4</td>\n",
       "      <td>15701354</td>\n",
       "      <td>Boni</td>\n",
       "      <td>699</td>\n",
       "      <td>France</td>\n",
       "      <td>Female</td>\n",
       "      <td>39</td>\n",
       "      <td>1.0</td>\n",
       "      <td>0.00</td>\n",
       "      <td>2</td>\n",
       "      <td>0</td>\n",
       "      <td>0</td>\n",
       "      <td>93826.63</td>\n",
       "      <td>0</td>\n",
       "      <td>0</td>\n",
       "      <td>0</td>\n",
       "      <td>0</td>\n",
       "    </tr>\n",
       "    <tr>\n",
       "      <th>4</th>\n",
       "      <td>5</td>\n",
       "      <td>15737888</td>\n",
       "      <td>Mitchell</td>\n",
       "      <td>850</td>\n",
       "      <td>Spain</td>\n",
       "      <td>Female</td>\n",
       "      <td>43</td>\n",
       "      <td>2.0</td>\n",
       "      <td>125510.82</td>\n",
       "      <td>1</td>\n",
       "      <td>1</td>\n",
       "      <td>1</td>\n",
       "      <td>79084.10</td>\n",
       "      <td>0</td>\n",
       "      <td>0</td>\n",
       "      <td>1</td>\n",
       "      <td>0</td>\n",
       "    </tr>\n",
       "    <tr>\n",
       "      <th>5</th>\n",
       "      <td>6</td>\n",
       "      <td>15574012</td>\n",
       "      <td>Chu</td>\n",
       "      <td>645</td>\n",
       "      <td>Spain</td>\n",
       "      <td>Male</td>\n",
       "      <td>44</td>\n",
       "      <td>8.0</td>\n",
       "      <td>113755.78</td>\n",
       "      <td>2</td>\n",
       "      <td>1</td>\n",
       "      <td>0</td>\n",
       "      <td>149756.71</td>\n",
       "      <td>1</td>\n",
       "      <td>0</td>\n",
       "      <td>1</td>\n",
       "      <td>1</td>\n",
       "    </tr>\n",
       "    <tr>\n",
       "      <th>6</th>\n",
       "      <td>7</td>\n",
       "      <td>15592531</td>\n",
       "      <td>Bartlett</td>\n",
       "      <td>822</td>\n",
       "      <td>France</td>\n",
       "      <td>Male</td>\n",
       "      <td>50</td>\n",
       "      <td>7.0</td>\n",
       "      <td>0.00</td>\n",
       "      <td>2</td>\n",
       "      <td>1</td>\n",
       "      <td>1</td>\n",
       "      <td>10062.80</td>\n",
       "      <td>0</td>\n",
       "      <td>0</td>\n",
       "      <td>0</td>\n",
       "      <td>1</td>\n",
       "    </tr>\n",
       "    <tr>\n",
       "      <th>7</th>\n",
       "      <td>8</td>\n",
       "      <td>15656148</td>\n",
       "      <td>Obinna</td>\n",
       "      <td>376</td>\n",
       "      <td>Germany</td>\n",
       "      <td>Female</td>\n",
       "      <td>29</td>\n",
       "      <td>4.0</td>\n",
       "      <td>115046.74</td>\n",
       "      <td>4</td>\n",
       "      <td>1</td>\n",
       "      <td>0</td>\n",
       "      <td>119346.88</td>\n",
       "      <td>1</td>\n",
       "      <td>1</td>\n",
       "      <td>0</td>\n",
       "      <td>0</td>\n",
       "    </tr>\n",
       "  </tbody>\n",
       "</table>\n",
       "</div>"
      ],
      "text/plain": [
       "   RowNumber  CustomerId   Surname  CreditScore Geography  Gender  Age  \\\n",
       "0          1    15634602  Hargrave          619    France  Female   42   \n",
       "1          2    15647311      Hill          608     Spain  Female   41   \n",
       "2          3    15619304      Onio          502    France  Female   42   \n",
       "3          4    15701354      Boni          699    France  Female   39   \n",
       "4          5    15737888  Mitchell          850     Spain  Female   43   \n",
       "5          6    15574012       Chu          645     Spain    Male   44   \n",
       "6          7    15592531  Bartlett          822    France    Male   50   \n",
       "7          8    15656148    Obinna          376   Germany  Female   29   \n",
       "\n",
       "   Tenure    Balance  NumOfProducts  HasCrCard  IsActiveMember  \\\n",
       "0     2.0       0.00              1          1               1   \n",
       "1     1.0   83807.86              1          0               1   \n",
       "2     8.0  159660.80              3          1               0   \n",
       "3     1.0       0.00              2          0               0   \n",
       "4     2.0  125510.82              1          1               1   \n",
       "5     8.0  113755.78              2          1               0   \n",
       "6     7.0       0.00              2          1               1   \n",
       "7     4.0  115046.74              4          1               0   \n",
       "\n",
       "   EstimatedSalary  Exited  Germany  Spain  Male  \n",
       "0        101348.88       1        0      0     0  \n",
       "1        112542.58       0        0      1     0  \n",
       "2        113931.57       1        0      0     0  \n",
       "3         93826.63       0        0      0     0  \n",
       "4         79084.10       0        0      1     0  \n",
       "5        149756.71       1        0      1     1  \n",
       "6         10062.80       0        0      0     1  \n",
       "7        119346.88       1        1      0     0  "
      ]
     },
     "execution_count": 23,
     "metadata": {},
     "output_type": "execute_result"
    }
   ],
   "source": [
    "#проверим результат\n",
    "data.head(8)"
   ]
  },
  {
   "cell_type": "markdown",
   "metadata": {},
   "source": [
    "**Колонки на месте! Теперь выделим выборки из основного датасета.**"
   ]
  },
  {
   "cell_type": "code",
   "execution_count": 24,
   "metadata": {},
   "outputs": [],
   "source": [
    "#выделим выборки для обучения, валиадации и проверки в соотношении 60-20-20\n",
    "data_train, data_test = train_test_split(data, test_size=0.4, random_state=123)"
   ]
  },
  {
   "cell_type": "code",
   "execution_count": 25,
   "metadata": {},
   "outputs": [],
   "source": [
    "data_test, data_valid = train_test_split(data_test, test_size=0.5, random_state=123)"
   ]
  },
  {
   "cell_type": "code",
   "execution_count": 26,
   "metadata": {},
   "outputs": [
    {
     "data": {
      "text/plain": [
       "(6000, 17)"
      ]
     },
     "execution_count": 26,
     "metadata": {},
     "output_type": "execute_result"
    }
   ],
   "source": [
    "data_train.shape"
   ]
  },
  {
   "cell_type": "code",
   "execution_count": 27,
   "metadata": {},
   "outputs": [
    {
     "data": {
      "text/plain": [
       "(2000, 17)"
      ]
     },
     "execution_count": 27,
     "metadata": {},
     "output_type": "execute_result"
    }
   ],
   "source": [
    "data_test.shape"
   ]
  },
  {
   "cell_type": "code",
   "execution_count": 28,
   "metadata": {},
   "outputs": [
    {
     "data": {
      "text/plain": [
       "(2000, 17)"
      ]
     },
     "execution_count": 28,
     "metadata": {},
     "output_type": "execute_result"
    }
   ],
   "source": [
    "data_valid.shape"
   ]
  },
  {
   "cell_type": "markdown",
   "metadata": {},
   "source": [
    "*Похоже, что выборки получились нужных размеров. Теперь выделим целевой признак. Столбцы, для которых мы создавали дамми-переменные, мы удалим во избежание дублирования данных, а также для экономии места.*"
   ]
  },
  {
   "cell_type": "code",
   "execution_count": 29,
   "metadata": {},
   "outputs": [],
   "source": [
    "#выделим целевой признак в отдельную переменную(для обучающей выборки)\n",
    "features_train = data_train.drop(columns=['Exited', 'Gender', 'Geography', 'CustomerId', 'RowNumber', 'Surname'], axis=1)\n",
    "target_train = data_train['Exited']\n",
    "#выделим целевой признак в отдельную переменную(для валидационной выборки)\n",
    "features_valid = data_valid.drop(columns=['Exited', 'Gender', 'Geography', 'CustomerId', 'RowNumber', 'Surname'], axis=1)\n",
    "target_valid = data_valid['Exited']"
   ]
  },
  {
   "cell_type": "markdown",
   "metadata": {},
   "source": [
    "**В работе модели возникают ошибка(ValueError: Input contains NaN, infinity or a value too large for dtype('float32')), поэтому нам необходимо очистить датасет от пробелов, значений близких к бесконечности и слишком больших значений**"
   ]
  },
  {
   "cell_type": "code",
   "execution_count": 30,
   "metadata": {},
   "outputs": [],
   "source": [
    "features_train = np.nan_to_num(features_train)\n",
    "target_train = np.nan_to_num(target_train)\n",
    "features_valid = np.nan_to_num(features_valid)\n",
    "target_valid = np.nan_to_num(target_valid)"
   ]
  },
  {
   "cell_type": "code",
   "execution_count": 31,
   "metadata": {},
   "outputs": [],
   "source": [
    "#отдельно отложим тестовую выборку для финальной проверки перед sanity check\n",
    "features_test = data_test.drop(columns=['Exited', 'Gender', 'Geography', 'CustomerId', 'RowNumber', 'Surname'], axis=1)\n",
    "target_test = data_test['Exited']"
   ]
  },
  {
   "cell_type": "code",
   "execution_count": 32,
   "metadata": {},
   "outputs": [],
   "source": [
    "features_test = np.nan_to_num(features_test)\n",
    "target_test = np.nan_to_num(target_test)"
   ]
  },
  {
   "cell_type": "markdown",
   "metadata": {},
   "source": [
    "### Решающее дерево"
   ]
  },
  {
   "cell_type": "code",
   "execution_count": 33,
   "metadata": {},
   "outputs": [
    {
     "name": "stdout",
     "output_type": "stream",
     "text": [
      "Wall time: 11.2 s\n"
     ]
    }
   ],
   "source": [
    "%%time\n",
    "\n",
    "best_model_dt = None\n",
    "best_result_dt = 0\n",
    "\n",
    "for x in range(10, 80):\n",
    "    for y in range(2, 10):\n",
    "        dt_model = DecisionTreeClassifier(random_state=123, max_depth=x, min_samples_leaf=y) \n",
    "        dt_model.fit(features_train, target_train) \n",
    "        predictions_valid_dt = dt_model.predict(features_valid)\n",
    "        result = f1_score(target_valid, predictions_valid_dt)\n",
    "        if result > best_result_dt:\n",
    "            best_model_dt = dt_model\n",
    "            best_result_dt = result"
   ]
  },
  {
   "cell_type": "code",
   "execution_count": 34,
   "metadata": {},
   "outputs": [
    {
     "data": {
      "text/plain": [
       "DecisionTreeClassifier(max_depth=10, min_samples_leaf=7, random_state=123)"
      ]
     },
     "execution_count": 34,
     "metadata": {},
     "output_type": "execute_result"
    }
   ],
   "source": [
    "best_model_dt"
   ]
  },
  {
   "cell_type": "code",
   "execution_count": 35,
   "metadata": {},
   "outputs": [
    {
     "data": {
      "text/plain": [
       "0.5991189427312775"
      ]
     },
     "execution_count": 35,
     "metadata": {},
     "output_type": "execute_result"
    }
   ],
   "source": [
    "best_result_dt"
   ]
  },
  {
   "cell_type": "markdown",
   "metadata": {},
   "source": [
    "**Отлично! F-1 мера как раз немного превышает порог, данный в задании. Продолжим с другими моделями, а затем посмотрим, как она изменится после работы с балансом классов**"
   ]
  },
  {
   "cell_type": "markdown",
   "metadata": {},
   "source": [
    "### Случайный лес"
   ]
  },
  {
   "cell_type": "code",
   "execution_count": 36,
   "metadata": {},
   "outputs": [
    {
     "name": "stdout",
     "output_type": "stream",
     "text": [
      "Wall time: 5min 55s\n"
     ]
    },
    {
     "data": {
      "text/plain": [
       "GridSearchCV(estimator=RandomForestClassifier(random_state=123),\n",
       "             param_grid={'max_depth': array([ 2,  3,  4,  5,  6,  7,  8,  9, 10, 11, 12, 13, 14]),\n",
       "                         'max_features': array([1, 2, 3, 4]),\n",
       "                         'n_estimators': array([ 2, 14, 26, 38, 50, 62, 74, 86, 98])},\n",
       "             scoring='f1')"
      ]
     },
     "execution_count": 36,
     "metadata": {},
     "output_type": "execute_result"
    }
   ],
   "source": [
    "%%time\n",
    "\n",
    "rfc_model = RandomForestClassifier(random_state=123)\n",
    "\n",
    "#создадим сетку параметров для проверки\n",
    "grid = {\n",
    "    'max_depth' : np.arange(2,15),\n",
    "    'n_estimators' : np.arange(2, 100, 12),\n",
    "    'max_features' : np.arange(1, 5)    \n",
    "}\n",
    "\n",
    "rfc_model_grid = GridSearchCV(rfc_model, grid, scoring='f1') \n",
    "rfc_model_grid.fit(features_train, target_train) "
   ]
  },
  {
   "cell_type": "code",
   "execution_count": 37,
   "metadata": {},
   "outputs": [
    {
     "name": "stdout",
     "output_type": "stream",
     "text": [
      "Лучший набор гиперпараметров {'max_depth': 11, 'max_features': 4, 'n_estimators': 26}\n",
      "Лучшая оценка(F1) 0.5731258179916614\n"
     ]
    }
   ],
   "source": [
    "#лучшая модель\n",
    "best_model_rfc = rfc_model_grid.best_estimator_\n",
    "\n",
    "print('Лучший набор гиперпараметров', rfc_model_grid.best_params_)\n",
    "print('Лучшая оценка(F1)', rfc_model_grid.best_score_)"
   ]
  },
  {
   "cell_type": "markdown",
   "metadata": {},
   "source": [
    "### Логистическая регрессия"
   ]
  },
  {
   "cell_type": "code",
   "execution_count": 38,
   "metadata": {},
   "outputs": [],
   "source": [
    "regr_model = LogisticRegression(random_state=123, solver='lbfgs', max_iter=1000) \n",
    "regr_model.fit(features_train, target_train) \n",
    "predictions_regr = regr_model.predict(features_valid)\n",
    "result_regr = f1_score(target_valid, predictions_regr)"
   ]
  },
  {
   "cell_type": "code",
   "execution_count": 39,
   "metadata": {},
   "outputs": [
    {
     "data": {
      "text/plain": [
       "'Наилучший показатель F1-меры для модели Логистической регресии:'"
      ]
     },
     "metadata": {},
     "output_type": "display_data"
    },
    {
     "data": {
      "text/plain": [
       "0.10389610389610389"
      ]
     },
     "metadata": {},
     "output_type": "display_data"
    }
   ],
   "source": [
    "display('Наилучший показатель F1-меры для модели Логистической регресии:', result_regr)"
   ]
  },
  {
   "cell_type": "markdown",
   "metadata": {},
   "source": [
    "### Выводы по обучению модели без учета дисбаланса классов\n",
    "\n",
    "На начальном этапе мы как обычно сравнили три модели для нашей задачи классификации, не уделяя внимания весу классов.\n",
    "* Как показали наблюдения, модель решающего дерева превысила порог F1-меры по заданию почти на 1 процент. \n",
    "* F1-мера логистической регрессии составила 0,10, поэтому мы продолжим наблюдения за этой моделью при других параметрах\n",
    "* Модель случайного леса обычно бывает наиболее перспективной из этих трех, но ее F1-мера не превысила требуемый порог в 59 процентов, поэтому мы будем продолжать подбор оптимальных параметров с учетом баланса классов."
   ]
  },
  {
   "cell_type": "markdown",
   "metadata": {},
   "source": [
    "## Борьба с дисбалансом"
   ]
  },
  {
   "cell_type": "markdown",
   "metadata": {},
   "source": [
    "Проверим, возрастет ли F1-мера, если мы поэкспериментируем с балансом классов. Мы посмотрим на изменения после добавления параметра **class_weight, применения техники upsampling'а и downsampling'a**. Будет любопытно узнать, подойдут ли те же гиперпараметры, которые были выбраны оптимальными выше при сбалансированных классах"
   ]
  },
  {
   "cell_type": "code",
   "execution_count": 40,
   "metadata": {},
   "outputs": [
    {
     "name": "stdout",
     "output_type": "stream",
     "text": [
      "Wall time: 11.3 s\n"
     ]
    }
   ],
   "source": [
    "%%time\n",
    "\n",
    "#сперва посмотрим на изменения результатов решающего дерева\n",
    "best_model_dt_balanced = None\n",
    "best_result_dt_balanced = 0\n",
    "\n",
    "for x in range(10, 80):\n",
    "    for y in range(2, 10):\n",
    "        dt_model_balanced = DecisionTreeClassifier(random_state=123, class_weight='balanced', max_depth=x, min_samples_leaf=y) \n",
    "        dt_model_balanced.fit(features_train, target_train) \n",
    "        predictions_dt_balanced = dt_model.predict(features_valid)\n",
    "        result = f1_score(target_valid, predictions_dt_balanced)\n",
    "        if result > best_result_dt_balanced:\n",
    "            best_model_dt_balanced = dt_model_balanced\n",
    "            best_result_dt_balanced = result     "
   ]
  },
  {
   "cell_type": "code",
   "execution_count": 41,
   "metadata": {},
   "outputs": [
    {
     "data": {
      "text/plain": [
       "DecisionTreeClassifier(class_weight='balanced', max_depth=10,\n",
       "                       min_samples_leaf=2, random_state=123)"
      ]
     },
     "execution_count": 41,
     "metadata": {},
     "output_type": "execute_result"
    }
   ],
   "source": [
    "best_model_dt_balanced"
   ]
  },
  {
   "cell_type": "code",
   "execution_count": 42,
   "metadata": {},
   "outputs": [
    {
     "data": {
      "text/plain": [
       "0.5858310626702997"
      ]
     },
     "execution_count": 42,
     "metadata": {},
     "output_type": "execute_result"
    }
   ],
   "source": [
    "best_result_dt_balanced"
   ]
  },
  {
   "cell_type": "code",
   "execution_count": 43,
   "metadata": {},
   "outputs": [
    {
     "name": "stdout",
     "output_type": "stream",
     "text": [
      "Wall time: 11min 7s\n"
     ]
    }
   ],
   "source": [
    "%%time\n",
    "\n",
    "#теперь посмотрим на изменения результатов наилучшей модели случайного леса\n",
    "best_model_rfc_bl = None\n",
    "best_result_rfc_bl = 0\n",
    "\n",
    "for est in range(3, 100):\n",
    "    for depth in range(1, 12):\n",
    "        for feature in range(1, 5):\n",
    "            rfc_model_bl = RandomForestClassifier(random_state=123, class_weight='balanced', n_estimators=est, max_depth=depth, max_features=feature) \n",
    "            rfc_model_bl.fit(features_train, target_train) \n",
    "            predictions_valid_bl = rfc_model_bl.predict(features_valid)\n",
    "            result = f1_score(target_valid, predictions_valid_bl)\n",
    "            if result > best_result_rfc_bl:\n",
    "                best_model_rfc_bl = rfc_model_bl\n",
    "                best_result_rfc_bl = result"
   ]
  },
  {
   "cell_type": "code",
   "execution_count": 44,
   "metadata": {},
   "outputs": [
    {
     "data": {
      "text/plain": [
       "RandomForestClassifier(class_weight='balanced', max_depth=11, max_features=4,\n",
       "                       n_estimators=91, random_state=123)"
      ]
     },
     "execution_count": 44,
     "metadata": {},
     "output_type": "execute_result"
    }
   ],
   "source": [
    "best_model_rfc_bl"
   ]
  },
  {
   "cell_type": "code",
   "execution_count": 45,
   "metadata": {},
   "outputs": [
    {
     "data": {
      "text/plain": [
       "0.6392811296534018"
      ]
     },
     "execution_count": 45,
     "metadata": {},
     "output_type": "execute_result"
    }
   ],
   "source": [
    "best_result_rfc_bl"
   ]
  },
  {
   "cell_type": "code",
   "execution_count": 46,
   "metadata": {},
   "outputs": [],
   "source": [
    "#теперь посмотрим на изменения результатов наилучшей модели логистической регрессии\n",
    "\n",
    "regr_model_balanced = LogisticRegression(random_state=123, class_weight='balanced', solver='lbfgs', max_iter=1000)\n",
    "regr_model_balanced.fit(features_train, target_train)\n",
    "predictions_regr_bl = regr_model_balanced.predict(features_valid)\n",
    "result_regr_bl = f1_score(target_valid, predictions_regr_bl)"
   ]
  },
  {
   "cell_type": "code",
   "execution_count": 47,
   "metadata": {},
   "outputs": [
    {
     "data": {
      "text/plain": [
       "0.44569589702333073"
      ]
     },
     "execution_count": 47,
     "metadata": {},
     "output_type": "execute_result"
    }
   ],
   "source": [
    "result_regr_bl"
   ]
  },
  {
   "cell_type": "markdown",
   "metadata": {},
   "source": [
    "### Промежуточные выводы по балансировке классов через параметр class_weight\n",
    "\n",
    "* Как мы видим, F1-мера незначительно снизилась для модели решающего дерева - единственной модели, которая соответствова критериям проекта ДО балансировки классов через этот параметр\n",
    "* После балансировки классов F1-мера для модели случайного леса, на которую мы традиционно возлагаем большие надежды существенно прибавила -7% если точнее и теперь она на 5% превышает нашу ключевую метрику, что выглядит многообещающе\n",
    "* F1-мера для модели логистической регрессии выросла на 34%, что было бы огромным успехом, если бы она не составила 0 ранее."
   ]
  },
  {
   "cell_type": "markdown",
   "metadata": {},
   "source": [
    "### Тестирование подхода upsampling'a"
   ]
  },
  {
   "cell_type": "markdown",
   "metadata": {},
   "source": [
    "*Поскольку у нас наблюдается явный дисбаланс классов целевого признака(соотношение 3:1 активных клиентов к ушедшим), то мы попробуем немного уравнять ситуацию, увеличив количество ушедших клиентов в 3 раза, чтобы они сравнялись по числу. Увеличение выборки происходит в несколько этапов, поэтому удобнее написать собственную функцию*"
   ]
  },
  {
   "cell_type": "code",
   "execution_count": 48,
   "metadata": {},
   "outputs": [],
   "source": [
    "#создадим функцию\n",
    "#во избежание ошибки, конвертируем np.ndarray в DataFrame\n",
    "def upsample(features, target, repeat):\n",
    "    features_zeros = features_train[target_train == 0]\n",
    "    features_ones = features_train[target_train == 1]\n",
    "    target_zeros = target_train[target_train == 0]\n",
    "    target_ones = target_train[target_train == 1]\n",
    "    features_zeros = pd.DataFrame(features_zeros)\n",
    "    features_ones = pd.DataFrame(features_ones)\n",
    "    target_zeros = pd.DataFrame(target_zeros)\n",
    "    target_ones = pd.DataFrame(target_ones)\n",
    "    features_upsampled = pd.concat([features_zeros] + [features_ones] * repeat)\n",
    "    target_upsampled = pd.concat([target_zeros] + [target_ones] * repeat)\n",
    "    features_upsampled, target_upsampled = shuffle(features_upsampled, target_upsampled, random_state=123)\n",
    "    \n",
    "    return features_upsampled, target_upsampled"
   ]
  },
  {
   "cell_type": "code",
   "execution_count": 49,
   "metadata": {},
   "outputs": [],
   "source": [
    "features_upsampled, target_upsampled = upsample(features_train, target_train, 3)"
   ]
  },
  {
   "cell_type": "code",
   "execution_count": 50,
   "metadata": {},
   "outputs": [
    {
     "name": "stdout",
     "output_type": "stream",
     "text": [
      "Wall time: 14.8 s\n"
     ]
    }
   ],
   "source": [
    "%%time\n",
    "\n",
    "#cперва испытаем модель решающего дерева (без учета баланса классов)\n",
    "best_model_dt_up = None\n",
    "best_result_dt_up = 0\n",
    "\n",
    "for x in range(10, 80):\n",
    "    for y in range(2, 10):\n",
    "        dt_model_up = DecisionTreeClassifier(random_state=123, max_depth=x, min_samples_leaf=y) \n",
    "        dt_model_up.fit(features_upsampled, target_upsampled) \n",
    "        predictions_valid_dt_up = dt_model_up.predict(features_valid)\n",
    "        result = f1_score(target_valid, predictions_valid_dt_up)\n",
    "        if result > best_result_dt_up:\n",
    "            best_model_dt_up = dt_model_up            \n",
    "            best_result_dt_up = result"
   ]
  },
  {
   "cell_type": "code",
   "execution_count": 51,
   "metadata": {},
   "outputs": [
    {
     "data": {
      "text/plain": [
       "DecisionTreeClassifier(max_depth=10, min_samples_leaf=3, random_state=123)"
      ]
     },
     "execution_count": 51,
     "metadata": {},
     "output_type": "execute_result"
    }
   ],
   "source": [
    "best_model_dt_up"
   ]
  },
  {
   "cell_type": "code",
   "execution_count": 52,
   "metadata": {},
   "outputs": [
    {
     "data": {
      "text/plain": [
       "0.5702127659574467"
      ]
     },
     "execution_count": 52,
     "metadata": {},
     "output_type": "execute_result"
    }
   ],
   "source": [
    "best_result_dt_up"
   ]
  },
  {
   "cell_type": "code",
   "execution_count": 53,
   "metadata": {
    "scrolled": true
   },
   "outputs": [
    {
     "name": "stdout",
     "output_type": "stream",
     "text": [
      "Wall time: 27min 4s\n"
     ]
    }
   ],
   "source": [
    "%%time\n",
    "\n",
    "#затем проверим модель случайного леса (без учета баланса классов)\n",
    "best_model_rfc_up = None\n",
    "best_result_rfc_up = 0\n",
    "\n",
    "for x in range(2, 100):\n",
    "    for y in range(2, 12):\n",
    "        for z in range(1,5):\n",
    "            rfc_model_up = RandomForestClassifier(random_state=123, n_estimators=x, max_depth=y, max_features=y) \n",
    "            rfc_model_up.fit(features_upsampled, target_upsampled.values.ravel()) \n",
    "            predictions_valid_rfc_up = rfc_model_up.predict(features_valid)\n",
    "            result = f1_score(target_valid, predictions_valid_rfc_up)\n",
    "            if result > best_result_rfc_up:\n",
    "                best_model_rfc_up = rfc_model_up            \n",
    "                best_result_rfc_up = result"
   ]
  },
  {
   "cell_type": "code",
   "execution_count": 54,
   "metadata": {},
   "outputs": [
    {
     "data": {
      "text/plain": [
       "RandomForestClassifier(max_depth=9, max_features=9, n_estimators=26,\n",
       "                       random_state=123)"
      ]
     },
     "execution_count": 54,
     "metadata": {},
     "output_type": "execute_result"
    }
   ],
   "source": [
    "best_model_rfc_up"
   ]
  },
  {
   "cell_type": "code",
   "execution_count": 55,
   "metadata": {},
   "outputs": [
    {
     "data": {
      "text/plain": [
       "0.6404494382022473"
      ]
     },
     "execution_count": 55,
     "metadata": {},
     "output_type": "execute_result"
    }
   ],
   "source": [
    "best_result_rfc_up"
   ]
  },
  {
   "cell_type": "code",
   "execution_count": 56,
   "metadata": {},
   "outputs": [],
   "source": [
    "#наконец пустим в ход линейную регрессию (без учета баланса классов)\n",
    "regr_model_up = LogisticRegression(random_state=123, solver='lbfgs', max_iter=1000) \n",
    "regr_model_up.fit(features_upsampled, target_upsampled.values.ravel()) \n",
    "predictions_regr_up = regr_model.predict(features_valid)\n",
    "result_regr_up = f1_score(target_valid, predictions_regr_up)"
   ]
  },
  {
   "cell_type": "code",
   "execution_count": 57,
   "metadata": {},
   "outputs": [
    {
     "data": {
      "text/plain": [
       "0.10389610389610389"
      ]
     },
     "execution_count": 57,
     "metadata": {},
     "output_type": "execute_result"
    }
   ],
   "source": [
    "result_regr_up"
   ]
  },
  {
   "cell_type": "markdown",
   "metadata": {},
   "source": [
    "### Промежуточные выводы по результатам применения техники увеличения выборки\n",
    "\n",
    "* После применения техники увеличения выборки F1-мера для решающего дерева упала на 3%, хотя на первом этапе модель была единственной превзошедшей порог в 0,59. Увеличение выборки в 3 раза лишь ухудшило результат\n",
    "* Для модели случайного леса upsampling оказался не очень благоприятным, что привело к снижению F-1 меры на 1% что является едва заметным изменением                                          \n",
    "* F1-мера логистической регрессии, которая изначально составила 0, затем выросла до 0,44 после добавления параметра class_weight а теперь она снова опустилась до 0,10, что заставляет нас продолжать искать более оптимальные параметры для регрессии"
   ]
  },
  {
   "cell_type": "markdown",
   "metadata": {},
   "source": [
    "### Тестирование подхода downsampling'a"
   ]
  },
  {
   "cell_type": "markdown",
   "metadata": {},
   "source": [
    "*Поскольку у нас наблюдается явный дисбаланс классов целевого признака(соотношение 3:1 активных клиентов к ушедшим), то мы попробуем немного уравнять ситуацию, уменьшив количество объектов превалирующего класса, чтобы они немного сравнялись по числу. Уменьшение выборки происходит в несколько этапов, поэтому удобнее написать собственную функцию*"
   ]
  },
  {
   "cell_type": "code",
   "execution_count": 58,
   "metadata": {},
   "outputs": [],
   "source": [
    "def downsample(features, target, fraction):\n",
    "    features_zeros = features_train[target_train == 0]\n",
    "    features_ones = features_train[target_train == 1]\n",
    "    target_zeros = target_train[target_train == 0]\n",
    "    target_ones = target_train[target_train == 1]\n",
    "    features_zeros = pd.DataFrame(features_zeros)\n",
    "    features_ones = pd.DataFrame(features_ones)\n",
    "    target_zeros = pd.DataFrame(target_zeros)\n",
    "    target_ones = pd.DataFrame(target_ones)\n",
    "    features_downsampled = pd.concat(\n",
    "        [features_zeros.sample(frac=fraction, random_state=12345)] + [features_ones])\n",
    "    target_downsampled = pd.concat(\n",
    "        [target_zeros.sample(frac=fraction, random_state=12345)] + [target_ones])\n",
    "    features_downsampled, target_downsampled = shuffle(features_downsampled, target_downsampled, random_state=12345)\n",
    "    return features_downsampled, target_downsampled\n",
    "\n",
    "features_downsampled, target_downsampled = downsample(features_train, target_train, 0.3)"
   ]
  },
  {
   "cell_type": "code",
   "execution_count": 59,
   "metadata": {},
   "outputs": [
    {
     "name": "stdout",
     "output_type": "stream",
     "text": [
      "Wall time: 5.55 s\n"
     ]
    }
   ],
   "source": [
    "%%time\n",
    "\n",
    "#cперва испытаем модель решающего дерева (без учета баланса классов)\n",
    "best_model_dt_down = None\n",
    "best_result_dt_down = 0\n",
    "\n",
    "for x in range(10, 80):\n",
    "    for y in range(2, 10):\n",
    "        dt_model_down = DecisionTreeClassifier(random_state=123, max_depth=x, min_samples_leaf=y) \n",
    "        dt_model_down.fit(features_downsampled, target_downsampled) \n",
    "        predictions_valid_dt_down = dt_model_down.predict(features_valid)\n",
    "        result = f1_score(target_valid, predictions_valid_dt_down)\n",
    "        if result > best_result_dt_up:\n",
    "            best_model_dt_down = dt_model_down            \n",
    "            best_result_dt_down = result"
   ]
  },
  {
   "cell_type": "code",
   "execution_count": 60,
   "metadata": {},
   "outputs": [],
   "source": [
    "best_model_dt_down"
   ]
  },
  {
   "cell_type": "code",
   "execution_count": 61,
   "metadata": {},
   "outputs": [
    {
     "data": {
      "text/plain": [
       "0"
      ]
     },
     "execution_count": 61,
     "metadata": {},
     "output_type": "execute_result"
    }
   ],
   "source": [
    "best_result_dt_down"
   ]
  },
  {
   "cell_type": "code",
   "execution_count": 63,
   "metadata": {},
   "outputs": [
    {
     "ename": "AttributeError",
     "evalue": "'NoneType' object has no attribute 'predict_proba'",
     "output_type": "error",
     "traceback": [
      "\u001b[1;31m---------------------------------------------------------------------------\u001b[0m",
      "\u001b[1;31mAttributeError\u001b[0m                            Traceback (most recent call last)",
      "\u001b[1;32m~\\AppData\\Local\\Temp/ipykernel_7996/2731610212.py\u001b[0m in \u001b[0;36m<module>\u001b[1;34m\u001b[0m\n\u001b[1;32m----> 1\u001b[1;33m \u001b[0mprobabilities_valid_dt_down\u001b[0m \u001b[1;33m=\u001b[0m \u001b[0mbest_model_dt_down\u001b[0m\u001b[1;33m.\u001b[0m\u001b[0mpredict_proba\u001b[0m\u001b[1;33m(\u001b[0m\u001b[0mfeatures_valid\u001b[0m\u001b[1;33m)\u001b[0m\u001b[1;33m\u001b[0m\u001b[1;33m\u001b[0m\u001b[0m\n\u001b[0m\u001b[0;32m      2\u001b[0m \u001b[0mprobabilities_one_valid_dt_down\u001b[0m \u001b[1;33m=\u001b[0m \u001b[0mprobabilities_valid_dt_down\u001b[0m\u001b[1;33m[\u001b[0m\u001b[1;33m:\u001b[0m\u001b[1;33m,\u001b[0m \u001b[1;36m1\u001b[0m\u001b[1;33m]\u001b[0m\u001b[1;33m\u001b[0m\u001b[1;33m\u001b[0m\u001b[0m\n\u001b[0;32m      3\u001b[0m \u001b[1;33m\u001b[0m\u001b[0m\n\u001b[0;32m      4\u001b[0m \u001b[0mauc_roc_dt_down\u001b[0m \u001b[1;33m=\u001b[0m \u001b[0mroc_auc_score\u001b[0m\u001b[1;33m(\u001b[0m\u001b[0mtarget_valid\u001b[0m\u001b[1;33m,\u001b[0m \u001b[0mprobabilities_one_valid_dt_down\u001b[0m\u001b[1;33m)\u001b[0m\u001b[1;33m\u001b[0m\u001b[1;33m\u001b[0m\u001b[0m\n\u001b[0;32m      5\u001b[0m \u001b[0mauc_roc_dt_down\u001b[0m\u001b[1;33m\u001b[0m\u001b[1;33m\u001b[0m\u001b[0m\n",
      "\u001b[1;31mAttributeError\u001b[0m: 'NoneType' object has no attribute 'predict_proba'"
     ]
    }
   ],
   "source": [
    "probabilities_valid_dt_down = best_model_dt_down.predict_proba(features_valid)\n",
    "probabilities_one_valid_dt_down = probabilities_valid_dt_down[:, 1]\n",
    "\n",
    "auc_roc_dt_down = roc_auc_score(target_valid, probabilities_one_valid_dt_down)\n",
    "auc_roc_dt_down"
   ]
  },
  {
   "cell_type": "code",
   "execution_count": 73,
   "metadata": {},
   "outputs": [
    {
     "name": "stdout",
     "output_type": "stream",
     "text": [
      "Wall time: 11min 35s\n"
     ]
    }
   ],
   "source": [
    "%%time\n",
    "\n",
    "#затем проверим модель случайного леса (без учета баланса классов)\n",
    "best_model_rfc_down = None\n",
    "best_result_rfc_down = 0\n",
    "\n",
    "for x in range(2, 100):\n",
    "    for y in range(2, 12):\n",
    "        for z in range(1,5):\n",
    "            rfc_model_down = RandomForestClassifier(random_state=123, n_estimators=x, max_depth=y, max_features=y) \n",
    "            rfc_model_down.fit(features_downsampled, target_downsampled.values.ravel()) \n",
    "            predictions_valid_rfc_down = rfc_model_down.predict(features_valid)\n",
    "            result = f1_score(target_valid, predictions_valid_rfc_down)\n",
    "            if result > best_result_rfc_down:\n",
    "                best_model_rfc_down = rfc_model_down            \n",
    "                best_result_rfc_down = result"
   ]
  },
  {
   "cell_type": "code",
   "execution_count": 74,
   "metadata": {},
   "outputs": [
    {
     "data": {
      "text/plain": [
       "RandomForestClassifier(max_depth=5, max_features=5, n_estimators=8,\n",
       "                       random_state=123)"
      ]
     },
     "execution_count": 74,
     "metadata": {},
     "output_type": "execute_result"
    }
   ],
   "source": [
    "best_model_rfc_down"
   ]
  },
  {
   "cell_type": "code",
   "execution_count": 75,
   "metadata": {},
   "outputs": [
    {
     "data": {
      "text/plain": [
       "0.6291390728476822"
      ]
     },
     "execution_count": 75,
     "metadata": {},
     "output_type": "execute_result"
    }
   ],
   "source": [
    "best_result_rfc_down"
   ]
  },
  {
   "cell_type": "code",
   "execution_count": 76,
   "metadata": {},
   "outputs": [
    {
     "data": {
      "text/plain": [
       "0.8608960520112162"
      ]
     },
     "execution_count": 76,
     "metadata": {},
     "output_type": "execute_result"
    }
   ],
   "source": [
    "probabilities_valid_rfc_down = best_model_rfc_down.predict_proba(features_valid)\n",
    "probabilities_one_valid_rfc_down = probabilities_valid_rfc_down[:, 1]\n",
    "\n",
    "auc_roc_rfc_down = roc_auc_score(target_valid, probabilities_one_valid_rfc_down)\n",
    "auc_roc_rfc_down"
   ]
  },
  {
   "cell_type": "code",
   "execution_count": 77,
   "metadata": {},
   "outputs": [],
   "source": [
    "#наконец испробуем линейную регрессию (без учета баланса классов)\n",
    "regr_model_down = LogisticRegression(random_state=123, solver='lbfgs', max_iter=1000) \n",
    "regr_model_down.fit(features_downsampled, target_downsampled.values.ravel()) \n",
    "predictions_regr_down = regr_model_down.predict(features_valid)\n",
    "result_regr_down = f1_score(target_valid, predictions_regr_down)"
   ]
  },
  {
   "cell_type": "code",
   "execution_count": 78,
   "metadata": {},
   "outputs": [
    {
     "data": {
      "text/plain": [
       "0.32013769363166955"
      ]
     },
     "execution_count": 78,
     "metadata": {},
     "output_type": "execute_result"
    }
   ],
   "source": [
    "result_regr_down"
   ]
  },
  {
   "cell_type": "code",
   "execution_count": 79,
   "metadata": {},
   "outputs": [
    {
     "data": {
      "text/plain": [
       "0.5893012233554182"
      ]
     },
     "execution_count": 79,
     "metadata": {},
     "output_type": "execute_result"
    }
   ],
   "source": [
    "probabilities_valid_regr_down = regr_model_down.predict_proba(features_valid)\n",
    "probabilities_one_valid_regr_down = probabilities_valid_regr_down[:, 1]\n",
    "\n",
    "auc_roc_regr_down = roc_auc_score(target_valid, probabilities_one_valid_regr_down)\n",
    "auc_roc_regr_down"
   ]
  },
  {
   "cell_type": "markdown",
   "metadata": {},
   "source": [
    "### Промежуточные выводы по результатам применения техники уменьшения выборки\n",
    "\n",
    "* После применения техники уменьшения выборки F1-мера для решающего дерева возросла на 0,01% по сравнению с результатом после апемплинга\n",
    "* Для модели случайного леса downsampling пошел во вред, что привело к снижению F1-меры на 0,015+% что является едва заметным снижением.\n",
    "* F1-мера логистической регрессии снова возросла от 0, достигнув 0,335%, что тем не менее на 2 процента хуже маесимальной зарегистрированной для этих моделей F1-меры\n",
    "* Модель решающего леса, показавшая 0 по метрике F1, не сработала при проверке по AUC-ROC, в то время, как модель случайного леса показало 0,86 по AUC-ROC, что на 0,36 выше показателя случайной модели. А модель логистической регрессии превзошла случайную модель всего на 0,08, что тем не менее неплохо для такой слабой модели."
   ]
  },
  {
   "cell_type": "markdown",
   "metadata": {},
   "source": [
    "## Тестирование модели"
   ]
  },
  {
   "cell_type": "markdown",
   "metadata": {},
   "source": [
    "***Поскольку в бизнесе всегда очень строгие требования ко всему, каждый процент и каждая копейка на вес золота, то мы будем тестировать в этом блоке не модели из последнего блока исследования, а ТОЛЬКО ТЕ, которые показали в нашем исследовании наиболее высокие показатели F1-меры, так вероятность достичь еще более высоких результатов будет еще выше***"
   ]
  },
  {
   "cell_type": "code",
   "execution_count": 64,
   "metadata": {},
   "outputs": [],
   "source": [
    "#cперва проверим модель решающего дерева\n",
    "predictions_test_dtc = best_model_dt.predict(features_test)\n",
    "dtc_model_f1 = f1_score(target_test, predictions_test_dtc)"
   ]
  },
  {
   "cell_type": "code",
   "execution_count": 65,
   "metadata": {},
   "outputs": [
    {
     "data": {
      "text/plain": [
       "0.5440729483282675"
      ]
     },
     "execution_count": 65,
     "metadata": {},
     "output_type": "execute_result"
    }
   ],
   "source": [
    "dtc_model_f1"
   ]
  },
  {
   "cell_type": "code",
   "execution_count": 66,
   "metadata": {},
   "outputs": [],
   "source": [
    "#затем проверим модель случайного леса\n",
    "predictions_test_rfc = best_model_rfc_up.predict(features_test)\n",
    "rf_f1 = f1_score(target_test, predictions_test_rfc)"
   ]
  },
  {
   "cell_type": "code",
   "execution_count": 67,
   "metadata": {},
   "outputs": [
    {
     "data": {
      "text/plain": [
       "0.6091825307950728"
      ]
     },
     "execution_count": 67,
     "metadata": {},
     "output_type": "execute_result"
    }
   ],
   "source": [
    "rf_f1"
   ]
  },
  {
   "cell_type": "code",
   "execution_count": 68,
   "metadata": {},
   "outputs": [],
   "source": [
    "#проверим модель логистической регрессии\n",
    "predictions_regr_bl_test = regr_model_balanced.predict(features_test)\n",
    "result_regr_bl_test = f1_score(target_test, predictions_regr_bl)"
   ]
  },
  {
   "cell_type": "code",
   "execution_count": 69,
   "metadata": {},
   "outputs": [
    {
     "data": {
      "text/plain": [
       "0.25952960259529606"
      ]
     },
     "execution_count": 69,
     "metadata": {},
     "output_type": "execute_result"
    }
   ],
   "source": [
    "result_regr_bl_test"
   ]
  },
  {
   "cell_type": "markdown",
   "metadata": {},
   "source": [
    "**Дополнительно проверим наши модели из этого блока метрикой AUC-ROC при помощи специального метода библиотеки sklearn**"
   ]
  },
  {
   "cell_type": "markdown",
   "metadata": {},
   "source": [
    "**Чтобы подсчитать AUC-ROC для наших моделей, нам нужен подсчет вероятностей положительного класса целевого признака**"
   ]
  },
  {
   "cell_type": "code",
   "execution_count": 70,
   "metadata": {},
   "outputs": [
    {
     "data": {
      "text/plain": [
       "0.8021553059276445"
      ]
     },
     "execution_count": 70,
     "metadata": {},
     "output_type": "execute_result"
    }
   ],
   "source": [
    "probabilities_valid_dt = best_model_dt.predict_proba(features_test)\n",
    "probabilities_one_valid_dt = probabilities_valid_dt[:, 1]\n",
    "\n",
    "auc_roc_dt = roc_auc_score(target_test, probabilities_one_valid_dt)\n",
    "auc_roc_dt"
   ]
  },
  {
   "cell_type": "code",
   "execution_count": 71,
   "metadata": {},
   "outputs": [
    {
     "data": {
      "text/plain": [
       "0.8625095612266185"
      ]
     },
     "execution_count": 71,
     "metadata": {},
     "output_type": "execute_result"
    }
   ],
   "source": [
    "probabilities_valid_rf = best_model_rfc_up.predict_proba(features_test)\n",
    "probabilities_one_valid_rf = probabilities_valid_rf[:, 1]\n",
    "\n",
    "auc_roc_rf = roc_auc_score(target_test, probabilities_one_valid_rf)\n",
    "auc_roc_rf"
   ]
  },
  {
   "cell_type": "code",
   "execution_count": 72,
   "metadata": {},
   "outputs": [
    {
     "data": {
      "text/plain": [
       "0.6748945894519915"
      ]
     },
     "execution_count": 72,
     "metadata": {},
     "output_type": "execute_result"
    }
   ],
   "source": [
    "probabilities_valid_regr = regr_model_balanced.predict_proba(features_test)\n",
    "probabilities_one_valid_regr = probabilities_valid_regr[:, 1]\n",
    "\n",
    "auc_roc_regr = roc_auc_score(target_test, probabilities_one_valid_regr)\n",
    "auc_roc_regr"
   ]
  },
  {
   "cell_type": "markdown",
   "metadata": {},
   "source": [
    "## Финальные выводы\n",
    "\n",
    "* **Модель решающего дерева с наивысшим изначальным показателем F1-меры(0,60), ухудшила свои показатели на тестовой выборке на 0,05**\n",
    "* Из всех **наилучших моделей только модель слуйчайного леса сумела превысить порог в 0,59 для F1-меры, хотя этот показатель потерял чуть меньше 0,8% на тестовой выборке по этой метрике**\n",
    "* **На тестовой выборке наилучшая модель логистической регрессии показала более низкий показатель F1-меры, чем раньше(0,445), зафиксировав снижение на 0,019 (0,445 => 0,259)**\n",
    "* Мы также **протестировали наши модели при помощи метрики AUC-ROC и пришли к аналогичным выводам по эффективности предсказаний** моделей: **на первом месте у нас оказалась модель случайного леса с оптимальными параметрами и показателем в 0,86, на втором месте осталась модель решающего дерева с показателем AUC-ROC 0,80**, ну а **модель логистической регрессии, которая ранее на тестовой выборке показала F1-меру на 0,015 ниже порога по условиям проекта, превзошла показатель AUC-ROC случайной модели на 0,17**, что кажется неплохим результатом\n",
    "* ***Все три модели показали более высокие показатели AUC-ROC, чем случайные модели***\n",
    "\n",
    "\n",
    "* Самый **значимый вывод из нашего проекта будет о том, что самая сильная модель(случайный лес) не сильно колебалась по метрике F1 в пределе 0,62-0,64, что не так впечатляет. Также следует отметить, что лучше всего модель решающего дерева показала себя ДО внесения балансировки классов, немного превзойдя порог F1-меры.** "
   ]
  },
  {
   "cell_type": "markdown",
   "metadata": {},
   "source": [
    "## Чек-лист готовности проекта"
   ]
  },
  {
   "cell_type": "markdown",
   "metadata": {},
   "source": [
    "Поставьте 'x' в выполненных пунктах. Далее нажмите Shift+Enter."
   ]
  },
  {
   "cell_type": "markdown",
   "metadata": {},
   "source": [
    "- [x]  Jupyter Notebook открыт\n",
    "- [X]  Весь код выполняется без ошибок\n",
    "- [X]  Ячейки с кодом расположены в порядке исполнения\n",
    "- [X]  Выполнен шаг 1: данные подготовлены\n",
    "- [X]  Выполнен шаг 2: задача исследована\n",
    "    - [X]  Исследован баланс классов\n",
    "    - [X]  Изучены модели без учёта дисбаланса\n",
    "    - [X]  Написаны выводы по результатам исследования\n",
    "- [X]  Выполнен шаг 3: учтён дисбаланс\n",
    "    - [X]  Применено несколько способов борьбы с дисбалансом\n",
    "    - [X]  Написаны выводы по результатам исследования\n",
    "- [X]  Выполнен шаг 4: проведено тестирование\n",
    "- [X]  Удалось достичь *F1*-меры не менее 0.59\n",
    "- [X]  Исследована метрика *AUC-ROC*"
   ]
  }
 ],
 "metadata": {
  "ExecuteTimeLog": [
   {
    "duration": 1180,
    "start_time": "2022-07-11T19:01:44.085Z"
   },
   {
    "duration": 342,
    "start_time": "2022-07-11T19:01:45.267Z"
   },
   {
    "duration": 22,
    "start_time": "2022-07-11T19:01:45.611Z"
   },
   {
    "duration": 3,
    "start_time": "2022-07-11T19:01:45.635Z"
   },
   {
    "duration": 12,
    "start_time": "2022-07-11T19:01:45.640Z"
   },
   {
    "duration": 431,
    "start_time": "2022-07-11T19:01:45.653Z"
   },
   {
    "duration": 270,
    "start_time": "2022-07-11T19:01:46.086Z"
   },
   {
    "duration": 303,
    "start_time": "2022-07-11T19:01:46.358Z"
   },
   {
    "duration": 298,
    "start_time": "2022-07-11T19:01:46.663Z"
   },
   {
    "duration": 404,
    "start_time": "2022-07-11T19:01:46.964Z"
   },
   {
    "duration": 25,
    "start_time": "2022-07-11T19:01:47.370Z"
   },
   {
    "duration": 72,
    "start_time": "2022-07-11T19:01:47.396Z"
   },
   {
    "duration": 5,
    "start_time": "2022-07-11T19:01:47.469Z"
   },
   {
    "duration": 15,
    "start_time": "2022-07-11T19:01:47.475Z"
   },
   {
    "duration": 5,
    "start_time": "2022-07-11T19:01:47.491Z"
   },
   {
    "duration": 7,
    "start_time": "2022-07-11T19:01:47.497Z"
   },
   {
    "duration": 52,
    "start_time": "2022-07-11T19:01:47.505Z"
   },
   {
    "duration": 6,
    "start_time": "2022-07-11T19:01:47.558Z"
   },
   {
    "duration": 6,
    "start_time": "2022-07-11T19:01:47.566Z"
   },
   {
    "duration": 8,
    "start_time": "2022-07-11T19:01:47.573Z"
   },
   {
    "duration": 14,
    "start_time": "2022-07-11T19:01:47.583Z"
   },
   {
    "duration": 54,
    "start_time": "2022-07-11T19:01:47.598Z"
   },
   {
    "duration": 6,
    "start_time": "2022-07-11T19:01:47.666Z"
   },
   {
    "duration": 6,
    "start_time": "2022-07-11T19:01:47.673Z"
   },
   {
    "duration": 5,
    "start_time": "2022-07-11T19:01:47.681Z"
   },
   {
    "duration": 6,
    "start_time": "2022-07-11T19:01:47.687Z"
   },
   {
    "duration": 7,
    "start_time": "2022-07-11T19:01:47.695Z"
   },
   {
    "duration": 58,
    "start_time": "2022-07-11T19:01:47.705Z"
   },
   {
    "duration": 8,
    "start_time": "2022-07-11T19:01:47.766Z"
   },
   {
    "duration": 5,
    "start_time": "2022-07-11T19:01:47.776Z"
   },
   {
    "duration": 16847,
    "start_time": "2022-07-11T19:01:47.782Z"
   },
   {
    "duration": 4,
    "start_time": "2022-07-11T19:02:04.631Z"
   },
   {
    "duration": 24,
    "start_time": "2022-07-11T19:02:04.637Z"
   },
   {
    "duration": 445376,
    "start_time": "2022-07-11T19:02:04.664Z"
   },
   {
    "duration": 15,
    "start_time": "2022-07-11T19:09:30.041Z"
   },
   {
    "duration": 501,
    "start_time": "2022-07-11T19:09:30.057Z"
   },
   {
    "duration": 5,
    "start_time": "2022-07-11T19:09:30.560Z"
   },
   {
    "duration": 17262,
    "start_time": "2022-07-11T19:09:30.567Z"
   },
   {
    "duration": 5,
    "start_time": "2022-07-11T19:09:47.830Z"
   },
   {
    "duration": 22,
    "start_time": "2022-07-11T19:09:47.836Z"
   },
   {
    "duration": 864669,
    "start_time": "2022-07-11T19:09:47.865Z"
   },
   {
    "duration": 4,
    "start_time": "2022-07-11T19:24:12.535Z"
   },
   {
    "duration": 14,
    "start_time": "2022-07-11T19:24:12.540Z"
   },
   {
    "duration": 97,
    "start_time": "2022-07-11T19:24:12.560Z"
   },
   {
    "duration": 131,
    "start_time": "2022-07-11T19:24:12.659Z"
   },
   {
    "duration": 5,
    "start_time": "2022-07-11T19:24:12.792Z"
   },
   {
    "duration": 63,
    "start_time": "2022-07-11T19:24:12.798Z"
   },
   {
    "duration": 23451,
    "start_time": "2022-07-11T19:24:12.863Z"
   },
   {
    "duration": 5,
    "start_time": "2022-07-11T19:24:36.316Z"
   },
   {
    "duration": 7,
    "start_time": "2022-07-11T19:24:36.323Z"
   },
   {
    "duration": 931732,
    "start_time": "2022-07-11T19:24:36.331Z"
   },
   {
    "duration": 13,
    "start_time": "2022-07-11T19:40:08.067Z"
   },
   {
    "duration": 9,
    "start_time": "2022-07-11T19:40:08.082Z"
   },
   {
    "duration": 675,
    "start_time": "2022-07-11T19:40:08.092Z"
   },
   {
    "duration": 7,
    "start_time": "2022-07-11T19:40:08.768Z"
   },
   {
    "duration": 187,
    "start_time": "2022-07-11T19:40:08.780Z"
   },
   {
    "duration": 8262,
    "start_time": "2022-07-11T19:40:08.971Z"
   },
   {
    "duration": 3,
    "start_time": "2022-07-11T19:40:17.235Z"
   },
   {
    "duration": 16,
    "start_time": "2022-07-11T19:40:17.239Z"
   },
   {
    "duration": 65257,
    "start_time": "2022-07-11T19:40:17.257Z"
   },
   {
    "duration": 4,
    "start_time": "2022-07-11T19:41:22.515Z"
   },
   {
    "duration": 6,
    "start_time": "2022-07-11T19:41:22.520Z"
   },
   {
    "duration": 435,
    "start_time": "2022-07-11T19:41:22.528Z"
   },
   {
    "duration": 5,
    "start_time": "2022-07-11T19:41:22.966Z"
   },
   {
    "duration": 107,
    "start_time": "2022-07-11T19:41:22.977Z"
   },
   {
    "duration": 5,
    "start_time": "2022-07-11T19:41:23.085Z"
   },
   {
    "duration": 19,
    "start_time": "2022-07-11T19:41:23.091Z"
   },
   {
    "duration": 4,
    "start_time": "2022-07-11T19:41:23.111Z"
   },
   {
    "duration": 43,
    "start_time": "2022-07-11T19:41:23.117Z"
   },
   {
    "duration": 7,
    "start_time": "2022-07-11T19:41:23.164Z"
   },
   {
    "duration": 121,
    "start_time": "2022-07-11T19:41:23.172Z"
   },
   {
    "duration": 22,
    "start_time": "2022-07-11T19:41:23.294Z"
   },
   {
    "duration": 42,
    "start_time": "2022-07-11T19:41:23.318Z"
   },
   {
    "duration": 96,
    "start_time": "2022-07-11T19:41:23.384Z"
   },
   {
    "duration": 902,
    "start_time": "2022-07-11T19:41:23.481Z"
   },
   {
    "duration": 9,
    "start_time": "2022-07-11T19:41:24.468Z"
   },
   {
    "duration": 5,
    "start_time": "2022-07-11T19:42:26.885Z"
   }
  ],
  "kernelspec": {
   "display_name": "Python 3 (ipykernel)",
   "language": "python",
   "name": "python3"
  },
  "language_info": {
   "codemirror_mode": {
    "name": "ipython",
    "version": 3
   },
   "file_extension": ".py",
   "mimetype": "text/x-python",
   "name": "python",
   "nbconvert_exporter": "python",
   "pygments_lexer": "ipython3",
   "version": "3.9.7"
  },
  "toc": {
   "base_numbering": 1,
   "nav_menu": {},
   "number_sections": true,
   "sideBar": true,
   "skip_h1_title": true,
   "title_cell": "Содержание",
   "title_sidebar": "Contents",
   "toc_cell": true,
   "toc_position": {
    "height": "calc(100% - 180px)",
    "left": "10px",
    "top": "150px",
    "width": "307.2px"
   },
   "toc_section_display": true,
   "toc_window_display": true
  }
 },
 "nbformat": 4,
 "nbformat_minor": 2
}
